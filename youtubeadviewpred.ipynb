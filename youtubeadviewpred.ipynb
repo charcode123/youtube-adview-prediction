{
 "cells": [
  {
   "cell_type": "code",
   "execution_count": 58,
   "metadata": {},
   "outputs": [],
   "source": [
    "import pandas as pd\n",
    "import seaborn as sns\n",
    "import matplotlib.pyplot as plt\n",
    "import numpy as np\n",
    "from sklearn.preprocessing import LabelEncoder\n"
   ]
  },
  {
   "cell_type": "code",
   "execution_count": 3,
   "metadata": {},
   "outputs": [],
   "source": [
    "df1=pd.read_csv('D:/pythonCode/projects/youtube-adview-prediction/train.csv')"
   ]
  },
  {
   "cell_type": "markdown",
   "metadata": {},
   "source": [
    "#cleaning data"
   ]
  },
  {
   "cell_type": "code",
   "execution_count": 4,
   "metadata": {},
   "outputs": [
    {
     "data": {
      "text/html": [
       "<div>\n",
       "<style scoped>\n",
       "    .dataframe tbody tr th:only-of-type {\n",
       "        vertical-align: middle;\n",
       "    }\n",
       "\n",
       "    .dataframe tbody tr th {\n",
       "        vertical-align: top;\n",
       "    }\n",
       "\n",
       "    .dataframe thead th {\n",
       "        text-align: right;\n",
       "    }\n",
       "</style>\n",
       "<table border=\"1\" class=\"dataframe\">\n",
       "  <thead>\n",
       "    <tr style=\"text-align: right;\">\n",
       "      <th></th>\n",
       "      <th>vidid</th>\n",
       "      <th>adview</th>\n",
       "      <th>views</th>\n",
       "      <th>likes</th>\n",
       "      <th>dislikes</th>\n",
       "      <th>comment</th>\n",
       "      <th>published</th>\n",
       "      <th>duration</th>\n",
       "      <th>category</th>\n",
       "    </tr>\n",
       "  </thead>\n",
       "  <tbody>\n",
       "    <tr>\n",
       "      <th>0</th>\n",
       "      <td>VID_18655</td>\n",
       "      <td>40</td>\n",
       "      <td>1031602</td>\n",
       "      <td>8523</td>\n",
       "      <td>363</td>\n",
       "      <td>1095</td>\n",
       "      <td>14-09-2016</td>\n",
       "      <td>PT7M37S</td>\n",
       "      <td>F</td>\n",
       "    </tr>\n",
       "    <tr>\n",
       "      <th>1</th>\n",
       "      <td>VID_14135</td>\n",
       "      <td>2</td>\n",
       "      <td>1707</td>\n",
       "      <td>56</td>\n",
       "      <td>2</td>\n",
       "      <td>6</td>\n",
       "      <td>01-10-2016</td>\n",
       "      <td>PT9M30S</td>\n",
       "      <td>D</td>\n",
       "    </tr>\n",
       "    <tr>\n",
       "      <th>2</th>\n",
       "      <td>VID_2187</td>\n",
       "      <td>1</td>\n",
       "      <td>2023</td>\n",
       "      <td>25</td>\n",
       "      <td>0</td>\n",
       "      <td>2</td>\n",
       "      <td>02-07-2016</td>\n",
       "      <td>PT2M16S</td>\n",
       "      <td>C</td>\n",
       "    </tr>\n",
       "    <tr>\n",
       "      <th>3</th>\n",
       "      <td>VID_23096</td>\n",
       "      <td>6</td>\n",
       "      <td>620860</td>\n",
       "      <td>777</td>\n",
       "      <td>161</td>\n",
       "      <td>153</td>\n",
       "      <td>27-07-2016</td>\n",
       "      <td>PT4M22S</td>\n",
       "      <td>H</td>\n",
       "    </tr>\n",
       "    <tr>\n",
       "      <th>4</th>\n",
       "      <td>VID_10175</td>\n",
       "      <td>1</td>\n",
       "      <td>666</td>\n",
       "      <td>1</td>\n",
       "      <td>0</td>\n",
       "      <td>0</td>\n",
       "      <td>29-06-2016</td>\n",
       "      <td>PT31S</td>\n",
       "      <td>D</td>\n",
       "    </tr>\n",
       "  </tbody>\n",
       "</table>\n",
       "</div>"
      ],
      "text/plain": [
       "       vidid  adview    views likes dislikes comment   published duration  \\\n",
       "0  VID_18655      40  1031602  8523      363    1095  14-09-2016  PT7M37S   \n",
       "1  VID_14135       2     1707    56        2       6  01-10-2016  PT9M30S   \n",
       "2   VID_2187       1     2023    25        0       2  02-07-2016  PT2M16S   \n",
       "3  VID_23096       6   620860   777      161     153  27-07-2016  PT4M22S   \n",
       "4  VID_10175       1      666     1        0       0  29-06-2016    PT31S   \n",
       "\n",
       "  category  \n",
       "0        F  \n",
       "1        D  \n",
       "2        C  \n",
       "3        H  \n",
       "4        D  "
      ]
     },
     "execution_count": 4,
     "metadata": {},
     "output_type": "execute_result"
    }
   ],
   "source": [
    "df1.head()"
   ]
  },
  {
   "cell_type": "code",
   "execution_count": 5,
   "metadata": {},
   "outputs": [
    {
     "data": {
      "text/html": [
       "<div>\n",
       "<style scoped>\n",
       "    .dataframe tbody tr th:only-of-type {\n",
       "        vertical-align: middle;\n",
       "    }\n",
       "\n",
       "    .dataframe tbody tr th {\n",
       "        vertical-align: top;\n",
       "    }\n",
       "\n",
       "    .dataframe thead th {\n",
       "        text-align: right;\n",
       "    }\n",
       "</style>\n",
       "<table border=\"1\" class=\"dataframe\">\n",
       "  <thead>\n",
       "    <tr style=\"text-align: right;\">\n",
       "      <th></th>\n",
       "      <th>vidid</th>\n",
       "      <th>adview</th>\n",
       "      <th>views</th>\n",
       "      <th>likes</th>\n",
       "      <th>dislikes</th>\n",
       "      <th>comment</th>\n",
       "      <th>published</th>\n",
       "      <th>duration</th>\n",
       "      <th>category</th>\n",
       "    </tr>\n",
       "  </thead>\n",
       "  <tbody>\n",
       "    <tr>\n",
       "      <th>14989</th>\n",
       "      <td>VID_20638</td>\n",
       "      <td>22</td>\n",
       "      <td>1204587</td>\n",
       "      <td>10284</td>\n",
       "      <td>379</td>\n",
       "      <td>2016</td>\n",
       "      <td>10-04-2013</td>\n",
       "      <td>PT10H19S</td>\n",
       "      <td>G</td>\n",
       "    </tr>\n",
       "    <tr>\n",
       "      <th>14990</th>\n",
       "      <td>VID_11386</td>\n",
       "      <td>15</td>\n",
       "      <td>525829</td>\n",
       "      <td>350</td>\n",
       "      <td>222</td>\n",
       "      <td>F</td>\n",
       "      <td>08-07-2016</td>\n",
       "      <td>PT29M38S</td>\n",
       "      <td>D</td>\n",
       "    </tr>\n",
       "    <tr>\n",
       "      <th>14991</th>\n",
       "      <td>VID_2502</td>\n",
       "      <td>1</td>\n",
       "      <td>333336</td>\n",
       "      <td>152</td>\n",
       "      <td>84</td>\n",
       "      <td>F</td>\n",
       "      <td>11-12-2015</td>\n",
       "      <td>PT18M40S</td>\n",
       "      <td>C</td>\n",
       "    </tr>\n",
       "    <tr>\n",
       "      <th>14992</th>\n",
       "      <td>VID_11653</td>\n",
       "      <td>1</td>\n",
       "      <td>78021</td>\n",
       "      <td>422</td>\n",
       "      <td>19</td>\n",
       "      <td>14</td>\n",
       "      <td>12-08-2016</td>\n",
       "      <td>PT2M57S</td>\n",
       "      <td>D</td>\n",
       "    </tr>\n",
       "    <tr>\n",
       "      <th>14993</th>\n",
       "      <td>VID_13909</td>\n",
       "      <td>11</td>\n",
       "      <td>96816</td>\n",
       "      <td>122</td>\n",
       "      <td>9</td>\n",
       "      <td>11</td>\n",
       "      <td>30-01-2014</td>\n",
       "      <td>PT2M6S</td>\n",
       "      <td>D</td>\n",
       "    </tr>\n",
       "    <tr>\n",
       "      <th>14994</th>\n",
       "      <td>VID_31</td>\n",
       "      <td>2</td>\n",
       "      <td>525949</td>\n",
       "      <td>1137</td>\n",
       "      <td>83</td>\n",
       "      <td>86</td>\n",
       "      <td>18-05-2015</td>\n",
       "      <td>PT6M10S</td>\n",
       "      <td>A</td>\n",
       "    </tr>\n",
       "    <tr>\n",
       "      <th>14995</th>\n",
       "      <td>VID_5861</td>\n",
       "      <td>1</td>\n",
       "      <td>665673</td>\n",
       "      <td>3849</td>\n",
       "      <td>156</td>\n",
       "      <td>569</td>\n",
       "      <td>20-10-2015</td>\n",
       "      <td>PT3M56S</td>\n",
       "      <td>D</td>\n",
       "    </tr>\n",
       "    <tr>\n",
       "      <th>14996</th>\n",
       "      <td>VID_805</td>\n",
       "      <td>4</td>\n",
       "      <td>3479</td>\n",
       "      <td>16</td>\n",
       "      <td>1</td>\n",
       "      <td>1</td>\n",
       "      <td>23-08-2013</td>\n",
       "      <td>PT3M13S</td>\n",
       "      <td>B</td>\n",
       "    </tr>\n",
       "    <tr>\n",
       "      <th>14997</th>\n",
       "      <td>VID_19843</td>\n",
       "      <td>1</td>\n",
       "      <td>963</td>\n",
       "      <td>0</td>\n",
       "      <td>0</td>\n",
       "      <td>0</td>\n",
       "      <td>02-10-2010</td>\n",
       "      <td>PT26S</td>\n",
       "      <td>G</td>\n",
       "    </tr>\n",
       "    <tr>\n",
       "      <th>14998</th>\n",
       "      <td>VID_8534</td>\n",
       "      <td>1</td>\n",
       "      <td>15212</td>\n",
       "      <td>22</td>\n",
       "      <td>5</td>\n",
       "      <td>4</td>\n",
       "      <td>19-02-2016</td>\n",
       "      <td>PT1M1S</td>\n",
       "      <td>D</td>\n",
       "    </tr>\n",
       "  </tbody>\n",
       "</table>\n",
       "</div>"
      ],
      "text/plain": [
       "           vidid  adview    views  likes dislikes comment   published  \\\n",
       "14989  VID_20638      22  1204587  10284      379    2016  10-04-2013   \n",
       "14990  VID_11386      15   525829    350      222       F  08-07-2016   \n",
       "14991   VID_2502       1   333336    152       84       F  11-12-2015   \n",
       "14992  VID_11653       1    78021    422       19      14  12-08-2016   \n",
       "14993  VID_13909      11    96816    122        9      11  30-01-2014   \n",
       "14994     VID_31       2   525949   1137       83      86  18-05-2015   \n",
       "14995   VID_5861       1   665673   3849      156     569  20-10-2015   \n",
       "14996    VID_805       4     3479     16        1       1  23-08-2013   \n",
       "14997  VID_19843       1      963      0        0       0  02-10-2010   \n",
       "14998   VID_8534       1    15212     22        5       4  19-02-2016   \n",
       "\n",
       "       duration category  \n",
       "14989  PT10H19S        G  \n",
       "14990  PT29M38S        D  \n",
       "14991  PT18M40S        C  \n",
       "14992   PT2M57S        D  \n",
       "14993    PT2M6S        D  \n",
       "14994   PT6M10S        A  \n",
       "14995   PT3M56S        D  \n",
       "14996   PT3M13S        B  \n",
       "14997     PT26S        G  \n",
       "14998    PT1M1S        D  "
      ]
     },
     "execution_count": 5,
     "metadata": {},
     "output_type": "execute_result"
    }
   ],
   "source": [
    "df1.tail(10)"
   ]
  },
  {
   "cell_type": "code",
   "execution_count": 6,
   "metadata": {},
   "outputs": [
    {
     "data": {
      "text/plain": [
       "vidid        object\n",
       "adview        int64\n",
       "views        object\n",
       "likes        object\n",
       "dislikes     object\n",
       "comment      object\n",
       "published    object\n",
       "duration     object\n",
       "category     object\n",
       "dtype: object"
      ]
     },
     "execution_count": 6,
     "metadata": {},
     "output_type": "execute_result"
    }
   ],
   "source": [
    "df1.dtypes"
   ]
  },
  {
   "cell_type": "code",
   "execution_count": 7,
   "metadata": {},
   "outputs": [
    {
     "data": {
      "text/plain": [
       "object    8\n",
       "int64     1\n",
       "dtype: int64"
      ]
     },
     "execution_count": 7,
     "metadata": {},
     "output_type": "execute_result"
    }
   ],
   "source": [
    "df1.dtypes.value_counts()"
   ]
  },
  {
   "cell_type": "code",
   "execution_count": 8,
   "metadata": {},
   "outputs": [
    {
     "data": {
      "text/plain": [
       "vidid        0\n",
       "adview       0\n",
       "views        0\n",
       "likes        0\n",
       "dislikes     0\n",
       "comment      0\n",
       "published    0\n",
       "duration     0\n",
       "category     0\n",
       "dtype: int64"
      ]
     },
     "execution_count": 8,
     "metadata": {},
     "output_type": "execute_result"
    }
   ],
   "source": [
    "df1.isnull().sum()"
   ]
  },
  {
   "cell_type": "code",
   "execution_count": null,
   "metadata": {},
   "outputs": [],
   "source": [
    "for i in range(len(df1['views'])):\n",
    "    if df1['views'][i]=='F':\n",
    "        df1['views'][i]=0"
   ]
  },
  {
   "cell_type": "code",
   "execution_count": 10,
   "metadata": {},
   "outputs": [],
   "source": [
    "df1['views']=df1['views'].astype(np.int64)\n"
   ]
  },
  {
   "cell_type": "code",
   "execution_count": null,
   "metadata": {},
   "outputs": [],
   "source": [
    "for i in range(len(df1['likes'])):\n",
    "    if df1['likes'][i]=='F':\n",
    "        df1['likes'][i]=0 \n",
    "        "
   ]
  },
  {
   "cell_type": "code",
   "execution_count": 12,
   "metadata": {},
   "outputs": [],
   "source": [
    "df1['likes']=df1['likes'].astype(np.int64)"
   ]
  },
  {
   "cell_type": "code",
   "execution_count": null,
   "metadata": {},
   "outputs": [],
   "source": [
    "for i in range(len(df1['dislikes'])):\n",
    "    if df1['dislikes'][i]=='F':\n",
    "        df1['dislikes'][i]=0 "
   ]
  },
  {
   "cell_type": "code",
   "execution_count": 14,
   "metadata": {},
   "outputs": [],
   "source": [
    "df1['dislikes']=df1['dislikes'].astype(np.int64)"
   ]
  },
  {
   "cell_type": "code",
   "execution_count": null,
   "metadata": {},
   "outputs": [],
   "source": [
    "for i in range(len(df1['comment'])):\n",
    "    if df1['comment'][i]=='F':\n",
    "        df1['comment'][i]=0 "
   ]
  },
  {
   "cell_type": "code",
   "execution_count": 16,
   "metadata": {},
   "outputs": [],
   "source": [
    "df1['comment']=df1['comment'].astype(np.int64)"
   ]
  },
  {
   "cell_type": "code",
   "execution_count": 17,
   "metadata": {},
   "outputs": [
    {
     "data": {
      "text/plain": [
       "vidid        object\n",
       "adview        int64\n",
       "views         int64\n",
       "likes         int64\n",
       "dislikes      int64\n",
       "comment       int64\n",
       "published    object\n",
       "duration     object\n",
       "category     object\n",
       "dtype: object"
      ]
     },
     "execution_count": 17,
     "metadata": {},
     "output_type": "execute_result"
    }
   ],
   "source": [
    "df1.dtypes\n"
   ]
  },
  {
   "cell_type": "markdown",
   "metadata": {},
   "source": [
    "#encoding categoricl values"
   ]
  },
  {
   "cell_type": "code",
   "execution_count": 34,
   "metadata": {},
   "outputs": [],
   "source": [
    "cate={'A':0,'B':1,'C':2,'D':3,'E':4,'F':5,'G':6,'H':7}"
   ]
  },
  {
   "cell_type": "code",
   "execution_count": 35,
   "metadata": {},
   "outputs": [
    {
     "name": "stderr",
     "output_type": "stream",
     "text": [
      "C:\\Users\\Chara\\AppData\\Local\\Temp/ipykernel_15312/2655812318.py:2: SettingWithCopyWarning: \n",
      "A value is trying to be set on a copy of a slice from a DataFrame\n",
      "\n",
      "See the caveats in the documentation: https://pandas.pydata.org/pandas-docs/stable/user_guide/indexing.html#returning-a-view-versus-a-copy\n",
      "  df1['category'][i]=cate[df1['category'][i]]\n"
     ]
    }
   ],
   "source": [
    "for i in range(len(df1['category'])):\n",
    "    df1['category'][i]=cate[df1['category'][i]]"
   ]
  },
  {
   "cell_type": "code",
   "execution_count": 40,
   "metadata": {},
   "outputs": [],
   "source": [
    "df1['category']=df1['category'].astype(int)"
   ]
  },
  {
   "cell_type": "code",
   "execution_count": 41,
   "metadata": {},
   "outputs": [
    {
     "data": {
      "text/plain": [
       "vidid        object\n",
       "adview        int64\n",
       "views         int64\n",
       "likes         int64\n",
       "dislikes      int64\n",
       "comment       int64\n",
       "published    object\n",
       "duration     object\n",
       "category      int32\n",
       "dtype: object"
      ]
     },
     "execution_count": 41,
     "metadata": {},
     "output_type": "execute_result"
    }
   ],
   "source": [
    "df1.dtypes"
   ]
  },
  {
   "cell_type": "code",
   "execution_count": 167,
   "metadata": {},
   "outputs": [],
   "source": [
    "import datetime\n",
    "import time\n",
    "\n",
    "def checki(x):\n",
    "  y = x[2:]\n",
    "  h = ''\n",
    "  m = ''\n",
    "  s = ''\n",
    "  mm = ''\n",
    "  P = ['H','M','S']\n",
    "  for i in y:\n",
    "    if i not in P:\n",
    "       mm+=i\n",
    "    else:\n",
    "      if(i=='H'):\n",
    "        h = mm\n",
    "        mm = ''\n",
    "      elif(i=='M'):\n",
    "        m = mm\n",
    "        mm = ''\n",
    "      else:\n",
    "        s =mm\n",
    "        mm = ''\n",
    "  if(h==''):\n",
    "    h = '00'\n",
    "  if(m==''):\n",
    "    m = '00'\n",
    "  if(s==''):\n",
    "    s = '00'\n",
    "  bp=h+':'+m+':'+s\n",
    "  return bp\n",
    "\n",
    "\n",
    "def func_sec(time_string):\n",
    "  h,m,s=time_string.split(':')\n",
    "  return int(h)*3600+int(m)*60+int(s)\n",
    "\n"
   ]
  },
  {
   "cell_type": "code",
   "execution_count": 50,
   "metadata": {},
   "outputs": [],
   "source": [
    "df1['duration']=df1['duration'].apply(checki)\n",
    "df1['duration']=df1['duration'].apply(func_sec)\n"
   ]
  },
  {
   "cell_type": "code",
   "execution_count": 54,
   "metadata": {},
   "outputs": [],
   "source": [
    "df1.drop(['vidid'],inplace=True,axis=1)"
   ]
  },
  {
   "cell_type": "code",
   "execution_count": 55,
   "metadata": {},
   "outputs": [
    {
     "data": {
      "text/html": [
       "<div>\n",
       "<style scoped>\n",
       "    .dataframe tbody tr th:only-of-type {\n",
       "        vertical-align: middle;\n",
       "    }\n",
       "\n",
       "    .dataframe tbody tr th {\n",
       "        vertical-align: top;\n",
       "    }\n",
       "\n",
       "    .dataframe thead th {\n",
       "        text-align: right;\n",
       "    }\n",
       "</style>\n",
       "<table border=\"1\" class=\"dataframe\">\n",
       "  <thead>\n",
       "    <tr style=\"text-align: right;\">\n",
       "      <th></th>\n",
       "      <th>adview</th>\n",
       "      <th>views</th>\n",
       "      <th>likes</th>\n",
       "      <th>dislikes</th>\n",
       "      <th>comment</th>\n",
       "      <th>published</th>\n",
       "      <th>duration</th>\n",
       "      <th>category</th>\n",
       "    </tr>\n",
       "  </thead>\n",
       "  <tbody>\n",
       "    <tr>\n",
       "      <th>0</th>\n",
       "      <td>40</td>\n",
       "      <td>1031602</td>\n",
       "      <td>8523</td>\n",
       "      <td>363</td>\n",
       "      <td>1095</td>\n",
       "      <td>14-09-2016</td>\n",
       "      <td>457</td>\n",
       "      <td>5</td>\n",
       "    </tr>\n",
       "    <tr>\n",
       "      <th>1</th>\n",
       "      <td>2</td>\n",
       "      <td>1707</td>\n",
       "      <td>56</td>\n",
       "      <td>2</td>\n",
       "      <td>6</td>\n",
       "      <td>01-10-2016</td>\n",
       "      <td>570</td>\n",
       "      <td>3</td>\n",
       "    </tr>\n",
       "    <tr>\n",
       "      <th>2</th>\n",
       "      <td>1</td>\n",
       "      <td>2023</td>\n",
       "      <td>25</td>\n",
       "      <td>0</td>\n",
       "      <td>2</td>\n",
       "      <td>02-07-2016</td>\n",
       "      <td>136</td>\n",
       "      <td>2</td>\n",
       "    </tr>\n",
       "    <tr>\n",
       "      <th>3</th>\n",
       "      <td>6</td>\n",
       "      <td>620860</td>\n",
       "      <td>777</td>\n",
       "      <td>161</td>\n",
       "      <td>153</td>\n",
       "      <td>27-07-2016</td>\n",
       "      <td>262</td>\n",
       "      <td>7</td>\n",
       "    </tr>\n",
       "    <tr>\n",
       "      <th>4</th>\n",
       "      <td>1</td>\n",
       "      <td>666</td>\n",
       "      <td>1</td>\n",
       "      <td>0</td>\n",
       "      <td>0</td>\n",
       "      <td>29-06-2016</td>\n",
       "      <td>31</td>\n",
       "      <td>3</td>\n",
       "    </tr>\n",
       "  </tbody>\n",
       "</table>\n",
       "</div>"
      ],
      "text/plain": [
       "   adview    views  likes  dislikes  comment   published  duration  category\n",
       "0      40  1031602   8523       363     1095  14-09-2016       457         5\n",
       "1       2     1707     56         2        6  01-10-2016       570         3\n",
       "2       1     2023     25         0        2  02-07-2016       136         2\n",
       "3       6   620860    777       161      153  27-07-2016       262         7\n",
       "4       1      666      1         0        0  29-06-2016        31         3"
      ]
     },
     "execution_count": 55,
     "metadata": {},
     "output_type": "execute_result"
    }
   ],
   "source": [
    "df1.head()"
   ]
  },
  {
   "cell_type": "code",
   "execution_count": 59,
   "metadata": {},
   "outputs": [],
   "source": [
    "label_encoder = LabelEncoder()  # LabelEncoder is used to convert string labels into numbers.\n",
    "df1['published']=label_encoder.fit_transform(df1['published'])"
   ]
  },
  {
   "cell_type": "code",
   "execution_count": 64,
   "metadata": {},
   "outputs": [],
   "source": [
    "df1.to_csv('D:/pythonCode/projects/youtube-adview-prediction/train_new.csv')"
   ]
  },
  {
   "cell_type": "code",
   "execution_count": 113,
   "metadata": {},
   "outputs": [],
   "source": [
    "df1=pd.read_csv('D:/pythonCode/projects/youtube-adview-prediction/train_new.csv')"
   ]
  },
  {
   "cell_type": "code",
   "execution_count": 68,
   "metadata": {},
   "outputs": [],
   "source": [
    "from sklearn.preprocessing import MinMaxScaler\n",
    "from sklearn.model_selection import train_test_split"
   ]
  },
  {
   "cell_type": "code",
   "execution_count": 114,
   "metadata": {},
   "outputs": [],
   "source": [
    "y=pd.DataFrame()\n",
    "y['adviews']=df1['adview']"
   ]
  },
  {
   "cell_type": "code",
   "execution_count": 115,
   "metadata": {},
   "outputs": [],
   "source": [
    "df1.drop(['Unnamed: 0'],inplace=True,axis=1)"
   ]
  },
  {
   "cell_type": "code",
   "execution_count": 116,
   "metadata": {},
   "outputs": [
    {
     "data": {
      "text/html": [
       "<div>\n",
       "<style scoped>\n",
       "    .dataframe tbody tr th:only-of-type {\n",
       "        vertical-align: middle;\n",
       "    }\n",
       "\n",
       "    .dataframe tbody tr th {\n",
       "        vertical-align: top;\n",
       "    }\n",
       "\n",
       "    .dataframe thead th {\n",
       "        text-align: right;\n",
       "    }\n",
       "</style>\n",
       "<table border=\"1\" class=\"dataframe\">\n",
       "  <thead>\n",
       "    <tr style=\"text-align: right;\">\n",
       "      <th></th>\n",
       "      <th>adview</th>\n",
       "      <th>views</th>\n",
       "      <th>likes</th>\n",
       "      <th>dislikes</th>\n",
       "      <th>comment</th>\n",
       "      <th>published</th>\n",
       "      <th>duration</th>\n",
       "      <th>category</th>\n",
       "    </tr>\n",
       "  </thead>\n",
       "  <tbody>\n",
       "    <tr>\n",
       "      <th>0</th>\n",
       "      <td>40</td>\n",
       "      <td>1031602</td>\n",
       "      <td>8523</td>\n",
       "      <td>363</td>\n",
       "      <td>1095</td>\n",
       "      <td>1090</td>\n",
       "      <td>457</td>\n",
       "      <td>5</td>\n",
       "    </tr>\n",
       "    <tr>\n",
       "      <th>1</th>\n",
       "      <td>2</td>\n",
       "      <td>1707</td>\n",
       "      <td>56</td>\n",
       "      <td>2</td>\n",
       "      <td>6</td>\n",
       "      <td>64</td>\n",
       "      <td>570</td>\n",
       "      <td>3</td>\n",
       "    </tr>\n",
       "    <tr>\n",
       "      <th>2</th>\n",
       "      <td>1</td>\n",
       "      <td>2023</td>\n",
       "      <td>25</td>\n",
       "      <td>0</td>\n",
       "      <td>2</td>\n",
       "      <td>122</td>\n",
       "      <td>136</td>\n",
       "      <td>2</td>\n",
       "    </tr>\n",
       "    <tr>\n",
       "      <th>3</th>\n",
       "      <td>6</td>\n",
       "      <td>620860</td>\n",
       "      <td>777</td>\n",
       "      <td>161</td>\n",
       "      <td>153</td>\n",
       "      <td>2090</td>\n",
       "      <td>262</td>\n",
       "      <td>7</td>\n",
       "    </tr>\n",
       "    <tr>\n",
       "      <th>4</th>\n",
       "      <td>1</td>\n",
       "      <td>666</td>\n",
       "      <td>1</td>\n",
       "      <td>0</td>\n",
       "      <td>0</td>\n",
       "      <td>2235</td>\n",
       "      <td>31</td>\n",
       "      <td>3</td>\n",
       "    </tr>\n",
       "  </tbody>\n",
       "</table>\n",
       "</div>"
      ],
      "text/plain": [
       "   adview    views  likes  dislikes  comment  published  duration  category\n",
       "0      40  1031602   8523       363     1095       1090       457         5\n",
       "1       2     1707     56         2        6         64       570         3\n",
       "2       1     2023     25         0        2        122       136         2\n",
       "3       6   620860    777       161      153       2090       262         7\n",
       "4       1      666      1         0        0       2235        31         3"
      ]
     },
     "execution_count": 116,
     "metadata": {},
     "output_type": "execute_result"
    }
   ],
   "source": [
    "df1.head()"
   ]
  },
  {
   "cell_type": "code",
   "execution_count": 117,
   "metadata": {},
   "outputs": [
    {
     "data": {
      "image/png": "[encoded data removed]",
      "text/plain": [
       "<Figure size 1440x1440 with 72 Axes>"
      ]
     },
     "metadata": {
      "needs_background": "light"
     },
     "output_type": "display_data"
    }
   ],
   "source": [
    "pairplot=sns.pairplot(df1.sample(100,random_state=0))"
   ]
  },
  {
   "cell_type": "code",
   "execution_count": 118,
   "metadata": {},
   "outputs": [
    {
     "data": {
      "text/html": [
       "<div>\n",
       "<style scoped>\n",
       "    .dataframe tbody tr th:only-of-type {\n",
       "        vertical-align: middle;\n",
       "    }\n",
       "\n",
       "    .dataframe tbody tr th {\n",
       "        vertical-align: top;\n",
       "    }\n",
       "\n",
       "    .dataframe thead th {\n",
       "        text-align: right;\n",
       "    }\n",
       "</style>\n",
       "<table border=\"1\" class=\"dataframe\">\n",
       "  <thead>\n",
       "    <tr style=\"text-align: right;\">\n",
       "      <th></th>\n",
       "      <th>adview</th>\n",
       "      <th>views</th>\n",
       "      <th>likes</th>\n",
       "      <th>dislikes</th>\n",
       "      <th>comment</th>\n",
       "      <th>published</th>\n",
       "      <th>duration</th>\n",
       "      <th>category</th>\n",
       "    </tr>\n",
       "  </thead>\n",
       "  <tbody>\n",
       "    <tr>\n",
       "      <th>count</th>\n",
       "      <td>1.499900e+04</td>\n",
       "      <td>1.499900e+04</td>\n",
       "      <td>14999.000000</td>\n",
       "      <td>14999.000000</td>\n",
       "      <td>14999.000000</td>\n",
       "      <td>14999.000000</td>\n",
       "      <td>14999.000000</td>\n",
       "      <td>14999.000000</td>\n",
       "    </tr>\n",
       "    <tr>\n",
       "      <th>mean</th>\n",
       "      <td>2.107791e+03</td>\n",
       "      <td>7.134752e+05</td>\n",
       "      <td>2739.423428</td>\n",
       "      <td>253.969065</td>\n",
       "      <td>400.174145</td>\n",
       "      <td>1211.792386</td>\n",
       "      <td>1045.884059</td>\n",
       "      <td>3.604574</td>\n",
       "    </tr>\n",
       "    <tr>\n",
       "      <th>std</th>\n",
       "      <td>5.237711e+04</td>\n",
       "      <td>2.724531e+06</td>\n",
       "      <td>8851.481213</td>\n",
       "      <td>1023.209567</td>\n",
       "      <td>1494.345713</td>\n",
       "      <td>695.575593</td>\n",
       "      <td>2313.382209</td>\n",
       "      <td>1.580268</td>\n",
       "    </tr>\n",
       "    <tr>\n",
       "      <th>min</th>\n",
       "      <td>1.000000e+00</td>\n",
       "      <td>0.000000e+00</td>\n",
       "      <td>0.000000</td>\n",
       "      <td>0.000000</td>\n",
       "      <td>0.000000</td>\n",
       "      <td>0.000000</td>\n",
       "      <td>0.000000</td>\n",
       "      <td>0.000000</td>\n",
       "    </tr>\n",
       "    <tr>\n",
       "      <th>25%</th>\n",
       "      <td>1.000000e+00</td>\n",
       "      <td>3.120100e+04</td>\n",
       "      <td>83.000000</td>\n",
       "      <td>7.000000</td>\n",
       "      <td>7.000000</td>\n",
       "      <td>606.000000</td>\n",
       "      <td>186.000000</td>\n",
       "      <td>3.000000</td>\n",
       "    </tr>\n",
       "    <tr>\n",
       "      <th>50%</th>\n",
       "      <td>2.000000e+00</td>\n",
       "      <td>1.583170e+05</td>\n",
       "      <td>434.000000</td>\n",
       "      <td>37.000000</td>\n",
       "      <td>43.000000</td>\n",
       "      <td>1220.000000</td>\n",
       "      <td>325.000000</td>\n",
       "      <td>3.000000</td>\n",
       "    </tr>\n",
       "    <tr>\n",
       "      <th>75%</th>\n",
       "      <td>6.000000e+00</td>\n",
       "      <td>5.846100e+05</td>\n",
       "      <td>1815.500000</td>\n",
       "      <td>166.000000</td>\n",
       "      <td>215.000000</td>\n",
       "      <td>1825.000000</td>\n",
       "      <td>729.500000</td>\n",
       "      <td>5.000000</td>\n",
       "    </tr>\n",
       "    <tr>\n",
       "      <th>max</th>\n",
       "      <td>5.429665e+06</td>\n",
       "      <td>1.380479e+08</td>\n",
       "      <td>283824.000000</td>\n",
       "      <td>49449.000000</td>\n",
       "      <td>75045.000000</td>\n",
       "      <td>2385.000000</td>\n",
       "      <td>42317.000000</td>\n",
       "      <td>7.000000</td>\n",
       "    </tr>\n",
       "  </tbody>\n",
       "</table>\n",
       "</div>"
      ],
      "text/plain": [
       "             adview         views          likes      dislikes       comment  \\\n",
       "count  1.499900e+04  1.499900e+04   14999.000000  14999.000000  14999.000000   \n",
       "mean   2.107791e+03  7.134752e+05    2739.423428    253.969065    400.174145   \n",
       "std    5.237711e+04  2.724531e+06    8851.481213   1023.209567   1494.345713   \n",
       "min    1.000000e+00  0.000000e+00       0.000000      0.000000      0.000000   \n",
       "25%    1.000000e+00  3.120100e+04      83.000000      7.000000      7.000000   \n",
       "50%    2.000000e+00  1.583170e+05     434.000000     37.000000     43.000000   \n",
       "75%    6.000000e+00  5.846100e+05    1815.500000    166.000000    215.000000   \n",
       "max    5.429665e+06  1.380479e+08  283824.000000  49449.000000  75045.000000   \n",
       "\n",
       "          published      duration      category  \n",
       "count  14999.000000  14999.000000  14999.000000  \n",
       "mean    1211.792386   1045.884059      3.604574  \n",
       "std      695.575593   2313.382209      1.580268  \n",
       "min        0.000000      0.000000      0.000000  \n",
       "25%      606.000000    186.000000      3.000000  \n",
       "50%     1220.000000    325.000000      3.000000  \n",
       "75%     1825.000000    729.500000      5.000000  \n",
       "max     2385.000000  42317.000000      7.000000  "
      ]
     },
     "execution_count": 118,
     "metadata": {},
     "output_type": "execute_result"
    }
   ],
   "source": [
    "df1.describe()"
   ]
  },
  {
   "cell_type": "code",
   "execution_count": 119,
   "metadata": {},
   "outputs": [
    {
     "data": {
      "text/html": [
       "<div>\n",
       "<style scoped>\n",
       "    .dataframe tbody tr th:only-of-type {\n",
       "        vertical-align: middle;\n",
       "    }\n",
       "\n",
       "    .dataframe tbody tr th {\n",
       "        vertical-align: top;\n",
       "    }\n",
       "\n",
       "    .dataframe thead th {\n",
       "        text-align: right;\n",
       "    }\n",
       "</style>\n",
       "<table border=\"1\" class=\"dataframe\">\n",
       "  <thead>\n",
       "    <tr style=\"text-align: right;\">\n",
       "      <th></th>\n",
       "      <th>adview</th>\n",
       "      <th>views</th>\n",
       "      <th>likes</th>\n",
       "      <th>dislikes</th>\n",
       "      <th>comment</th>\n",
       "      <th>published</th>\n",
       "      <th>duration</th>\n",
       "      <th>category</th>\n",
       "    </tr>\n",
       "  </thead>\n",
       "  <tbody>\n",
       "    <tr>\n",
       "      <th>adview</th>\n",
       "      <td>1.000000</td>\n",
       "      <td>0.032054</td>\n",
       "      <td>0.044040</td>\n",
       "      <td>0.035852</td>\n",
       "      <td>0.015801</td>\n",
       "      <td>0.001414</td>\n",
       "      <td>-0.013359</td>\n",
       "      <td>0.007641</td>\n",
       "    </tr>\n",
       "    <tr>\n",
       "      <th>views</th>\n",
       "      <td>0.032054</td>\n",
       "      <td>1.000000</td>\n",
       "      <td>0.719122</td>\n",
       "      <td>0.723686</td>\n",
       "      <td>0.408631</td>\n",
       "      <td>-0.007364</td>\n",
       "      <td>0.005878</td>\n",
       "      <td>0.034346</td>\n",
       "    </tr>\n",
       "    <tr>\n",
       "      <th>likes</th>\n",
       "      <td>0.044040</td>\n",
       "      <td>0.719122</td>\n",
       "      <td>1.000000</td>\n",
       "      <td>0.648235</td>\n",
       "      <td>0.650171</td>\n",
       "      <td>-0.007298</td>\n",
       "      <td>-0.043008</td>\n",
       "      <td>-0.007563</td>\n",
       "    </tr>\n",
       "    <tr>\n",
       "      <th>dislikes</th>\n",
       "      <td>0.035852</td>\n",
       "      <td>0.723686</td>\n",
       "      <td>0.648235</td>\n",
       "      <td>1.000000</td>\n",
       "      <td>0.528888</td>\n",
       "      <td>-0.010060</td>\n",
       "      <td>0.000532</td>\n",
       "      <td>0.011880</td>\n",
       "    </tr>\n",
       "    <tr>\n",
       "      <th>comment</th>\n",
       "      <td>0.015801</td>\n",
       "      <td>0.408631</td>\n",
       "      <td>0.650171</td>\n",
       "      <td>0.528888</td>\n",
       "      <td>1.000000</td>\n",
       "      <td>0.002114</td>\n",
       "      <td>-0.037151</td>\n",
       "      <td>-0.032638</td>\n",
       "    </tr>\n",
       "    <tr>\n",
       "      <th>published</th>\n",
       "      <td>0.001414</td>\n",
       "      <td>-0.007364</td>\n",
       "      <td>-0.007298</td>\n",
       "      <td>-0.010060</td>\n",
       "      <td>0.002114</td>\n",
       "      <td>1.000000</td>\n",
       "      <td>-0.008154</td>\n",
       "      <td>0.008599</td>\n",
       "    </tr>\n",
       "    <tr>\n",
       "      <th>duration</th>\n",
       "      <td>-0.013359</td>\n",
       "      <td>0.005878</td>\n",
       "      <td>-0.043008</td>\n",
       "      <td>0.000532</td>\n",
       "      <td>-0.037151</td>\n",
       "      <td>-0.008154</td>\n",
       "      <td>1.000000</td>\n",
       "      <td>0.050779</td>\n",
       "    </tr>\n",
       "    <tr>\n",
       "      <th>category</th>\n",
       "      <td>0.007641</td>\n",
       "      <td>0.034346</td>\n",
       "      <td>-0.007563</td>\n",
       "      <td>0.011880</td>\n",
       "      <td>-0.032638</td>\n",
       "      <td>0.008599</td>\n",
       "      <td>0.050779</td>\n",
       "      <td>1.000000</td>\n",
       "    </tr>\n",
       "  </tbody>\n",
       "</table>\n",
       "</div>"
      ],
      "text/plain": [
       "             adview     views     likes  dislikes   comment  published  \\\n",
       "adview     1.000000  0.032054  0.044040  0.035852  0.015801   0.001414   \n",
       "views      0.032054  1.000000  0.719122  0.723686  0.408631  -0.007364   \n",
       "likes      0.044040  0.719122  1.000000  0.648235  0.650171  -0.007298   \n",
       "dislikes   0.035852  0.723686  0.648235  1.000000  0.528888  -0.010060   \n",
       "comment    0.015801  0.408631  0.650171  0.528888  1.000000   0.002114   \n",
       "published  0.001414 -0.007364 -0.007298 -0.010060  0.002114   1.000000   \n",
       "duration  -0.013359  0.005878 -0.043008  0.000532 -0.037151  -0.008154   \n",
       "category   0.007641  0.034346 -0.007563  0.011880 -0.032638   0.008599   \n",
       "\n",
       "           duration  category  \n",
       "adview    -0.013359  0.007641  \n",
       "views      0.005878  0.034346  \n",
       "likes     -0.043008 -0.007563  \n",
       "dislikes   0.000532  0.011880  \n",
       "comment   -0.037151 -0.032638  \n",
       "published -0.008154  0.008599  \n",
       "duration   1.000000  0.050779  \n",
       "category   0.050779  1.000000  "
      ]
     },
     "execution_count": 119,
     "metadata": {},
     "output_type": "execute_result"
    }
   ],
   "source": [
    "df1.corr()"
   ]
  },
  {
   "cell_type": "code",
   "execution_count": 120,
   "metadata": {},
   "outputs": [
    {
     "data": {
      "text/plain": [
       "<AxesSubplot:>"
      ]
     },
     "execution_count": 120,
     "metadata": {},
     "output_type": "execute_result"
    },
    {
     "data": {
      "image/png": "[encoded data removed]",
      "text/plain": [
       "<Figure size 432x288 with 2 Axes>"
      ]
     },
     "metadata": {
      "needs_background": "light"
     },
     "output_type": "display_data"
    }
   ],
   "source": [
    "sns.heatmap(df1.corr(),annot=True)"
   ]
  },
  {
   "cell_type": "code",
   "execution_count": 121,
   "metadata": {},
   "outputs": [],
   "source": [
    "df1.drop(['adview'],inplace=True,axis=1)"
   ]
  },
  {
   "cell_type": "code",
   "execution_count": 122,
   "metadata": {},
   "outputs": [],
   "source": [
    "X_train, X_test, y_train, y_test = train_test_split(df1, y, test_size = 0.2, random_state=42)"
   ]
  },
  {
   "cell_type": "code",
   "execution_count": 157,
   "metadata": {},
   "outputs": [
    {
     "data": {
      "text/html": [
       "<div>\n",
       "<style scoped>\n",
       "    .dataframe tbody tr th:only-of-type {\n",
       "        vertical-align: middle;\n",
       "    }\n",
       "\n",
       "    .dataframe tbody tr th {\n",
       "        vertical-align: top;\n",
       "    }\n",
       "\n",
       "    .dataframe thead th {\n",
       "        text-align: right;\n",
       "    }\n",
       "</style>\n",
       "<table border=\"1\" class=\"dataframe\">\n",
       "  <thead>\n",
       "    <tr style=\"text-align: right;\">\n",
       "      <th></th>\n",
       "      <th>views</th>\n",
       "      <th>likes</th>\n",
       "      <th>dislikes</th>\n",
       "      <th>comment</th>\n",
       "      <th>published</th>\n",
       "      <th>duration</th>\n",
       "      <th>category</th>\n",
       "    </tr>\n",
       "  </thead>\n",
       "  <tbody>\n",
       "    <tr>\n",
       "      <th>9838</th>\n",
       "      <td>377366</td>\n",
       "      <td>308</td>\n",
       "      <td>98</td>\n",
       "      <td>22</td>\n",
       "      <td>594</td>\n",
       "      <td>8845</td>\n",
       "      <td>3</td>\n",
       "    </tr>\n",
       "    <tr>\n",
       "      <th>7689</th>\n",
       "      <td>2176</td>\n",
       "      <td>6</td>\n",
       "      <td>0</td>\n",
       "      <td>0</td>\n",
       "      <td>1109</td>\n",
       "      <td>734</td>\n",
       "      <td>6</td>\n",
       "    </tr>\n",
       "    <tr>\n",
       "      <th>6557</th>\n",
       "      <td>1058</td>\n",
       "      <td>3</td>\n",
       "      <td>0</td>\n",
       "      <td>0</td>\n",
       "      <td>408</td>\n",
       "      <td>137</td>\n",
       "      <td>7</td>\n",
       "    </tr>\n",
       "    <tr>\n",
       "      <th>6872</th>\n",
       "      <td>25320</td>\n",
       "      <td>31</td>\n",
       "      <td>0</td>\n",
       "      <td>0</td>\n",
       "      <td>819</td>\n",
       "      <td>165</td>\n",
       "      <td>6</td>\n",
       "    </tr>\n",
       "    <tr>\n",
       "      <th>820</th>\n",
       "      <td>16565</td>\n",
       "      <td>31</td>\n",
       "      <td>6</td>\n",
       "      <td>1</td>\n",
       "      <td>930</td>\n",
       "      <td>97</td>\n",
       "      <td>2</td>\n",
       "    </tr>\n",
       "  </tbody>\n",
       "</table>\n",
       "</div>"
      ],
      "text/plain": [
       "       views  likes  dislikes  comment  published  duration  category\n",
       "9838  377366    308        98       22        594      8845         3\n",
       "7689    2176      6         0        0       1109       734         6\n",
       "6557    1058      3         0        0        408       137         7\n",
       "6872   25320     31         0        0        819       165         6\n",
       "820    16565     31         6        1        930        97         2"
      ]
     },
     "execution_count": 157,
     "metadata": {},
     "output_type": "execute_result"
    }
   ],
   "source": [
    "X_train.head()"
   ]
  },
  {
   "cell_type": "code",
   "execution_count": 135,
   "metadata": {},
   "outputs": [],
   "source": [
    "from sklearn.pipeline import make_pipeline\n",
    "from sklearn.preprocessing import StandardScaler\n",
    "from sklearn.linear_model import LinearRegression\n",
    "from sklearn import metrics\n"
   ]
  },
  {
   "cell_type": "code",
   "execution_count": 125,
   "metadata": {},
   "outputs": [
    {
     "data": {
      "text/plain": [
       "Pipeline(steps=[('standardscaler', StandardScaler()),\n",
       "                ('linearregression', LinearRegression())])"
      ]
     },
     "execution_count": 125,
     "metadata": {},
     "output_type": "execute_result"
    }
   ],
   "source": [
    "model=make_pipeline(StandardScaler(),LinearRegression())\n",
    "model"
   ]
  },
  {
   "cell_type": "code",
   "execution_count": 126,
   "metadata": {},
   "outputs": [
    {
     "data": {
      "text/plain": [
       "Pipeline(steps=[('standardscaler', StandardScaler()),\n",
       "                ('linearregression', LinearRegression())])"
      ]
     },
     "execution_count": 126,
     "metadata": {},
     "output_type": "execute_result"
    }
   ],
   "source": [
    "model.fit(X_train,y_train)"
   ]
  },
  {
   "cell_type": "code",
   "execution_count": 127,
   "metadata": {},
   "outputs": [
    {
     "data": {
      "text/plain": [
       "array([[1013.40609792],\n",
       "       [ 828.32595363],\n",
       "       [1724.37890903],\n",
       "       [2013.53438157],\n",
       "       [1053.87987242]])"
      ]
     },
     "execution_count": 127,
     "metadata": {},
     "output_type": "execute_result"
    }
   ],
   "source": [
    "y_pred1=model.predict(X_test)\n",
    "y_pred1[:5]\n"
   ]
  },
  {
   "cell_type": "code",
   "execution_count": 128,
   "metadata": {},
   "outputs": [
    {
     "data": {
      "text/html": [
       "<div>\n",
       "<style scoped>\n",
       "    .dataframe tbody tr th:only-of-type {\n",
       "        vertical-align: middle;\n",
       "    }\n",
       "\n",
       "    .dataframe tbody tr th {\n",
       "        vertical-align: top;\n",
       "    }\n",
       "\n",
       "    .dataframe thead th {\n",
       "        text-align: right;\n",
       "    }\n",
       "</style>\n",
       "<table border=\"1\" class=\"dataframe\">\n",
       "  <thead>\n",
       "    <tr style=\"text-align: right;\">\n",
       "      <th></th>\n",
       "      <th>adviews</th>\n",
       "    </tr>\n",
       "  </thead>\n",
       "  <tbody>\n",
       "    <tr>\n",
       "      <th>6723</th>\n",
       "      <td>1</td>\n",
       "    </tr>\n",
       "    <tr>\n",
       "      <th>6473</th>\n",
       "      <td>33</td>\n",
       "    </tr>\n",
       "    <tr>\n",
       "      <th>4679</th>\n",
       "      <td>3</td>\n",
       "    </tr>\n",
       "    <tr>\n",
       "      <th>862</th>\n",
       "      <td>4</td>\n",
       "    </tr>\n",
       "    <tr>\n",
       "      <th>7286</th>\n",
       "      <td>4839</td>\n",
       "    </tr>\n",
       "  </tbody>\n",
       "</table>\n",
       "</div>"
      ],
      "text/plain": [
       "      adviews\n",
       "6723        1\n",
       "6473       33\n",
       "4679        3\n",
       "862         4\n",
       "7286     4839"
      ]
     },
     "execution_count": 128,
     "metadata": {},
     "output_type": "execute_result"
    }
   ],
   "source": [
    "y_test[:5]"
   ]
  },
  {
   "cell_type": "code",
   "execution_count": 140,
   "metadata": {},
   "outputs": [
    {
     "name": "stdout",
     "output_type": "stream",
     "text": [
      "R2 score: 0.00\n",
      "Mean Absolute Error: 5191.909958191997\n",
      "Mean Squared Error: 10750384947.260498\n",
      "Root Mean Squared Error: 103684.063130553\n"
     ]
    }
   ],
   "source": [
    "print(f'R2 score: {metrics.r2_score(y_test, y_pred1):.2f}')\n",
    "print(f'Mean Absolute Error: {metrics.mean_absolute_error(y_test, y_pred1)}')\n",
    "print(f'Mean Squared Error: {metrics.mean_squared_error(y_test, y_pred1)}')\n",
    "print(f'Root Mean Squared Error: {np.sqrt(metrics.mean_squared_error(y_test, y_pred1))}')"
   ]
  },
  {
   "cell_type": "code",
   "execution_count": 134,
   "metadata": {},
   "outputs": [],
   "source": [
    "from sklearn.tree import DecisionTreeRegressor"
   ]
  },
  {
   "cell_type": "code",
   "execution_count": 137,
   "metadata": {},
   "outputs": [],
   "source": [
    "tree = DecisionTreeRegressor(max_depth=3).fit(X_train, y_train)\n",
    "y_pred2 = tree.predict(X_train)"
   ]
  },
  {
   "cell_type": "code",
   "execution_count": 139,
   "metadata": {},
   "outputs": [
    {
     "name": "stdout",
     "output_type": "stream",
     "text": [
      "R^2 score: 0.29966195342461854\n",
      "Mean Absolute Error: 3033.2422117090914\n",
      "Mean Squared Error: 517145706.58466655\n",
      "Root Mean Squared Error: 22740.83786021673\n"
     ]
    }
   ],
   "source": [
    "print(f'R^2 score: {tree.score(X_train, y_train)}')\n",
    "print(f'Mean Absolute Error: {metrics.mean_absolute_error(y_train, y_pred2)}')\n",
    "print(f'Mean Squared Error: {metrics.mean_squared_error(y_train, y_pred2)}')\n",
    "print(f'Root Mean Squared Error: {np.sqrt(metrics.mean_squared_error(y_train, y_pred2))}')"
   ]
  },
  {
   "cell_type": "code",
   "execution_count": 141,
   "metadata": {},
   "outputs": [],
   "source": [
    "from sklearn.ensemble import RandomForestRegressor"
   ]
  },
  {
   "cell_type": "code",
   "execution_count": 142,
   "metadata": {},
   "outputs": [
    {
     "name": "stderr",
     "output_type": "stream",
     "text": [
      "C:\\Users\\Chara\\AppData\\Local\\Temp/ipykernel_15312/2124533598.py:2: DataConversionWarning: A column-vector y was passed when a 1d array was expected. Please change the shape of y to (n_samples,), for example using ravel().\n",
      "  forest.fit(X_train,y_train)\n"
     ]
    }
   ],
   "source": [
    "forest=RandomForestRegressor(n_estimators=100,random_state=42)\n",
    "forest.fit(X_train,y_train)\n",
    "y_pred3=forest.predict(X_train)"
   ]
  },
  {
   "cell_type": "code",
   "execution_count": 143,
   "metadata": {},
   "outputs": [
    {
     "name": "stdout",
     "output_type": "stream",
     "text": [
      "R^2 score: 0.8612869801737398\n",
      "Mean Absolute Error: 1200.6352887740645\n",
      "Mean Squared Error: 102428881.31142384\n",
      "Root Mean Squared Error: 10120.715454523155\n"
     ]
    }
   ],
   "source": [
    "print(f'R^2 score: {forest.score(X_train, y_train)}')\n",
    "print(f'Mean Absolute Error: {metrics.mean_absolute_error(y_train, y_pred3)}')\n",
    "print(f'Mean Squared Error: {metrics.mean_squared_error(y_train, y_pred3)}')\n",
    "print(f'Root Mean Squared Error: {np.sqrt(metrics.mean_squared_error(y_train, y_pred3))}')"
   ]
  },
  {
   "cell_type": "code",
   "execution_count": 146,
   "metadata": {},
   "outputs": [],
   "source": [
    "from sklearn.svm import SVR"
   ]
  },
  {
   "cell_type": "code",
   "execution_count": 147,
   "metadata": {},
   "outputs": [
    {
     "name": "stderr",
     "output_type": "stream",
     "text": [
      "C:\\Users\\Chara\\AppData\\Local\\Programs\\Python\\Python310\\lib\\site-packages\\sklearn\\utils\\validation.py:993: DataConversionWarning: A column-vector y was passed when a 1d array was expected. Please change the shape of y to (n_samples, ), for example using ravel().\n",
      "  y = column_or_1d(y, warn=True)\n"
     ]
    }
   ],
   "source": [
    "model1=make_pipeline(StandardScaler(),SVR(kernel='rbf',C=1e3,gamma=0.1))\n",
    "model1.fit(X_train,y_train)\n",
    "y_pred4=model1.predict(X_train)"
   ]
  },
  {
   "cell_type": "code",
   "execution_count": 148,
   "metadata": {},
   "outputs": [
    {
     "name": "stdout",
     "output_type": "stream",
     "text": [
      "R^2 score: -0.003795006329519124\n",
      "Mean Absolute Error: 1753.3049733579815\n",
      "Mean Squared Error: 741225298.77229\n",
      "Root Mean Squared Error: 27225.453141725484\n"
     ]
    }
   ],
   "source": [
    "print(f'R^2 score: {model1.score(X_train, y_train)}')\n",
    "print(f'Mean Absolute Error: {metrics.mean_absolute_error(y_train, y_pred4)}')\n",
    "print(f'Mean Squared Error: {metrics.mean_squared_error(y_train, y_pred4)}')\n",
    "print(f'Root Mean Squared Error: {np.sqrt(metrics.mean_squared_error(y_train, y_pred4))}')"
   ]
  },
  {
   "cell_type": "code",
   "execution_count": 151,
   "metadata": {},
   "outputs": [],
   "source": [
    "from keras.models import Sequential\n",
    "from keras.layers import Dense\n"
   ]
  },
  {
   "cell_type": "code",
   "execution_count": 158,
   "metadata": {},
   "outputs": [],
   "source": [
    "model2 = Sequential()\n",
    "model2.add(Dense(500, input_dim=7, activation= \"relu\"))\n",
    "model2.add(Dense(100, activation= \"relu\"))\n",
    "model2.add(Dense(50, activation= \"relu\"))\n",
    "model2.add(Dense(1))"
   ]
  },
  {
   "cell_type": "code",
   "execution_count": 159,
   "metadata": {},
   "outputs": [
    {
     "name": "stdout",
     "output_type": "stream",
     "text": [
      "Model: \"sequential_1\"\n",
      "_________________________________________________________________\n",
      " Layer (type)                Output Shape              Param #   \n",
      "=================================================================\n",
      " dense_4 (Dense)             (None, 500)               4000      \n",
      "                                                                 \n",
      " dense_5 (Dense)             (None, 100)               50100     \n",
      "                                                                 \n",
      " dense_6 (Dense)             (None, 50)                5050      \n",
      "                                                                 \n",
      " dense_7 (Dense)             (None, 1)                 51        \n",
      "                                                                 \n",
      "=================================================================\n",
      "Total params: 59,201\n",
      "Trainable params: 59,201\n",
      "Non-trainable params: 0\n",
      "_________________________________________________________________\n"
     ]
    }
   ],
   "source": [
    "model2.summary()"
   ]
  },
  {
   "cell_type": "code",
   "execution_count": 160,
   "metadata": {},
   "outputs": [],
   "source": [
    "model2.compile(loss= \"mean_squared_error\" , optimizer=\"adam\", metrics=[\"mean_squared_error\"])"
   ]
  },
  {
   "cell_type": "code",
   "execution_count": 161,
   "metadata": {},
   "outputs": [
    {
     "name": "stdout",
     "output_type": "stream",
     "text": [
      "Epoch 1/100\n",
      "375/375 [==============================] - 5s 5ms/step - loss: 2995314432.0000 - mean_squared_error: 2995314432.0000\n",
      "Epoch 2/100\n",
      "375/375 [==============================] - 2s 5ms/step - loss: 2653684992.0000 - mean_squared_error: 2653684992.0000\n",
      "Epoch 3/100\n",
      "375/375 [==============================] - 2s 4ms/step - loss: 2082176256.0000 - mean_squared_error: 2082176256.0000\n",
      "Epoch 4/100\n",
      "375/375 [==============================] - 2s 5ms/step - loss: 796743424.0000 - mean_squared_error: 796743424.0000\n",
      "Epoch 5/100\n",
      "375/375 [==============================] - 2s 4ms/step - loss: 768319744.0000 - mean_squared_error: 768319744.0000\n",
      "Epoch 6/100\n",
      "375/375 [==============================] - 2s 4ms/step - loss: 759041088.0000 - mean_squared_error: 759041088.0000\n",
      "Epoch 7/100\n",
      "375/375 [==============================] - 2s 4ms/step - loss: 877357504.0000 - mean_squared_error: 877357504.0000\n",
      "Epoch 8/100\n",
      "375/375 [==============================] - 2s 4ms/step - loss: 787185216.0000 - mean_squared_error: 787185216.0000\n",
      "Epoch 9/100\n",
      "375/375 [==============================] - 2s 4ms/step - loss: 790585216.0000 - mean_squared_error: 790585216.0000\n",
      "Epoch 10/100\n",
      "375/375 [==============================] - 2s 4ms/step - loss: 761322112.0000 - mean_squared_error: 761322112.0000\n",
      "Epoch 11/100\n",
      "375/375 [==============================] - 2s 4ms/step - loss: 753659776.0000 - mean_squared_error: 753659776.0000\n",
      "Epoch 12/100\n",
      "375/375 [==============================] - 2s 4ms/step - loss: 744955264.0000 - mean_squared_error: 744955264.0000\n",
      "Epoch 13/100\n",
      "375/375 [==============================] - 2s 4ms/step - loss: 747005952.0000 - mean_squared_error: 747005952.0000\n",
      "Epoch 14/100\n",
      "375/375 [==============================] - 2s 4ms/step - loss: 745029824.0000 - mean_squared_error: 745029824.0000\n",
      "Epoch 15/100\n",
      "375/375 [==============================] - 2s 5ms/step - loss: 748536832.0000 - mean_squared_error: 748536832.0000\n",
      "Epoch 16/100\n",
      "375/375 [==============================] - 2s 5ms/step - loss: 740726784.0000 - mean_squared_error: 740726784.0000\n",
      "Epoch 17/100\n",
      "375/375 [==============================] - 2s 4ms/step - loss: 825101120.0000 - mean_squared_error: 825101120.0000\n",
      "Epoch 18/100\n",
      "375/375 [==============================] - 2s 5ms/step - loss: 817897344.0000 - mean_squared_error: 817897344.0000\n",
      "Epoch 19/100\n",
      "375/375 [==============================] - 2s 5ms/step - loss: 748734720.0000 - mean_squared_error: 748734720.0000\n",
      "Epoch 20/100\n",
      "375/375 [==============================] - 2s 5ms/step - loss: 755389888.0000 - mean_squared_error: 755389888.0000\n",
      "Epoch 21/100\n",
      "375/375 [==============================] - 2s 5ms/step - loss: 866262976.0000 - mean_squared_error: 866262976.0000\n",
      "Epoch 22/100\n",
      "375/375 [==============================] - 2s 5ms/step - loss: 741053888.0000 - mean_squared_error: 741053888.0000\n",
      "Epoch 23/100\n",
      "375/375 [==============================] - 2s 5ms/step - loss: 1073289088.0000 - mean_squared_error: 1073289088.0000\n",
      "Epoch 24/100\n",
      "375/375 [==============================] - 2s 5ms/step - loss: 761801408.0000 - mean_squared_error: 761801408.0000\n",
      "Epoch 25/100\n",
      "375/375 [==============================] - 2s 5ms/step - loss: 741948288.0000 - mean_squared_error: 741948288.0000\n",
      "Epoch 26/100\n",
      "375/375 [==============================] - 2s 5ms/step - loss: 742140544.0000 - mean_squared_error: 742140544.0000\n",
      "Epoch 27/100\n",
      "375/375 [==============================] - 2s 5ms/step - loss: 741347008.0000 - mean_squared_error: 741347008.0000\n",
      "Epoch 28/100\n",
      "375/375 [==============================] - 2s 5ms/step - loss: 741189440.0000 - mean_squared_error: 741189440.0000\n",
      "Epoch 29/100\n",
      "375/375 [==============================] - 2s 5ms/step - loss: 742230336.0000 - mean_squared_error: 742230336.0000\n",
      "Epoch 30/100\n",
      "375/375 [==============================] - 2s 5ms/step - loss: 741778240.0000 - mean_squared_error: 741778240.0000\n",
      "Epoch 31/100\n",
      "375/375 [==============================] - 2s 5ms/step - loss: 741264640.0000 - mean_squared_error: 741264640.0000\n",
      "Epoch 32/100\n",
      "375/375 [==============================] - 2s 5ms/step - loss: 741227712.0000 - mean_squared_error: 741227712.0000\n",
      "Epoch 33/100\n",
      "375/375 [==============================] - 2s 5ms/step - loss: 741165312.0000 - mean_squared_error: 741165312.0000\n",
      "Epoch 34/100\n",
      "375/375 [==============================] - 2s 5ms/step - loss: 741211712.0000 - mean_squared_error: 741211712.0000\n",
      "Epoch 35/100\n",
      "375/375 [==============================] - 2s 5ms/step - loss: 741391616.0000 - mean_squared_error: 741391616.0000\n",
      "Epoch 36/100\n",
      "375/375 [==============================] - 2s 5ms/step - loss: 741335424.0000 - mean_squared_error: 741335424.0000\n",
      "Epoch 37/100\n",
      "375/375 [==============================] - 2s 5ms/step - loss: 741288896.0000 - mean_squared_error: 741288896.0000\n",
      "Epoch 38/100\n",
      "375/375 [==============================] - 2s 5ms/step - loss: 741127488.0000 - mean_squared_error: 741127488.0000\n",
      "Epoch 39/100\n",
      "375/375 [==============================] - 2s 5ms/step - loss: 741145152.0000 - mean_squared_error: 741145152.0000\n",
      "Epoch 40/100\n",
      "375/375 [==============================] - 2s 5ms/step - loss: 740963072.0000 - mean_squared_error: 740963072.0000\n",
      "Epoch 41/100\n",
      "375/375 [==============================] - 2s 5ms/step - loss: 744410048.0000 - mean_squared_error: 744410048.0000\n",
      "Epoch 42/100\n",
      "375/375 [==============================] - 2s 5ms/step - loss: 741358784.0000 - mean_squared_error: 741358784.0000\n",
      "Epoch 43/100\n",
      "375/375 [==============================] - 2s 5ms/step - loss: 741319744.0000 - mean_squared_error: 741319744.0000\n",
      "Epoch 44/100\n",
      "375/375 [==============================] - 2s 5ms/step - loss: 741310912.0000 - mean_squared_error: 741310912.0000\n",
      "Epoch 45/100\n",
      "375/375 [==============================] - 2s 5ms/step - loss: 741323840.0000 - mean_squared_error: 741323840.0000\n",
      "Epoch 46/100\n",
      "375/375 [==============================] - 2s 5ms/step - loss: 741286976.0000 - mean_squared_error: 741286976.0000\n",
      "Epoch 47/100\n",
      "375/375 [==============================] - 2s 5ms/step - loss: 741762944.0000 - mean_squared_error: 741762944.0000\n",
      "Epoch 48/100\n",
      "375/375 [==============================] - 2s 5ms/step - loss: 741346496.0000 - mean_squared_error: 741346496.0000\n",
      "Epoch 49/100\n",
      "375/375 [==============================] - 2s 5ms/step - loss: 741316160.0000 - mean_squared_error: 741316160.0000\n",
      "Epoch 50/100\n",
      "375/375 [==============================] - 2s 5ms/step - loss: 741318080.0000 - mean_squared_error: 741318080.0000\n",
      "Epoch 51/100\n",
      "375/375 [==============================] - 2s 5ms/step - loss: 741194752.0000 - mean_squared_error: 741194752.0000\n",
      "Epoch 52/100\n",
      "375/375 [==============================] - 2s 5ms/step - loss: 741251968.0000 - mean_squared_error: 741251968.0000\n",
      "Epoch 53/100\n",
      "375/375 [==============================] - 2s 5ms/step - loss: 741118656.0000 - mean_squared_error: 741118656.0000\n",
      "Epoch 54/100\n",
      "375/375 [==============================] - 2s 5ms/step - loss: 741104320.0000 - mean_squared_error: 741104320.0000\n",
      "Epoch 55/100\n",
      "375/375 [==============================] - 2s 5ms/step - loss: 741701760.0000 - mean_squared_error: 741701760.0000\n",
      "Epoch 56/100\n",
      "375/375 [==============================] - 2s 5ms/step - loss: 741314944.0000 - mean_squared_error: 741314944.0000\n",
      "Epoch 57/100\n",
      "375/375 [==============================] - 2s 5ms/step - loss: 741307904.0000 - mean_squared_error: 741307904.0000\n",
      "Epoch 58/100\n",
      "375/375 [==============================] - 2s 5ms/step - loss: 741300416.0000 - mean_squared_error: 741300416.0000\n",
      "Epoch 59/100\n",
      "375/375 [==============================] - 2s 5ms/step - loss: 741296832.0000 - mean_squared_error: 741296832.0000\n",
      "Epoch 60/100\n",
      "375/375 [==============================] - 2s 5ms/step - loss: 741276928.0000 - mean_squared_error: 741276928.0000\n",
      "Epoch 61/100\n",
      "375/375 [==============================] - 2s 5ms/step - loss: 741218176.0000 - mean_squared_error: 741218176.0000\n",
      "Epoch 62/100\n",
      "375/375 [==============================] - 2s 5ms/step - loss: 741124928.0000 - mean_squared_error: 741124928.0000\n",
      "Epoch 63/100\n",
      "375/375 [==============================] - 2s 5ms/step - loss: 741179136.0000 - mean_squared_error: 741179136.0000\n",
      "Epoch 64/100\n",
      "375/375 [==============================] - 2s 5ms/step - loss: 741273088.0000 - mean_squared_error: 741273088.0000\n",
      "Epoch 65/100\n",
      "375/375 [==============================] - 2s 5ms/step - loss: 741221696.0000 - mean_squared_error: 741221696.0000\n",
      "Epoch 66/100\n",
      "375/375 [==============================] - 2s 5ms/step - loss: 741047936.0000 - mean_squared_error: 741047936.0000\n",
      "Epoch 67/100\n",
      "375/375 [==============================] - 2s 5ms/step - loss: 741089984.0000 - mean_squared_error: 741089984.0000\n",
      "Epoch 68/100\n",
      "375/375 [==============================] - 2s 5ms/step - loss: 741179456.0000 - mean_squared_error: 741179456.0000\n",
      "Epoch 69/100\n",
      "375/375 [==============================] - 2s 5ms/step - loss: 741208768.0000 - mean_squared_error: 741208768.0000\n",
      "Epoch 70/100\n",
      "375/375 [==============================] - 2s 5ms/step - loss: 741133952.0000 - mean_squared_error: 741133952.0000\n",
      "Epoch 71/100\n",
      "375/375 [==============================] - 2s 5ms/step - loss: 740968192.0000 - mean_squared_error: 740968192.0000\n",
      "Epoch 72/100\n",
      "375/375 [==============================] - 2s 5ms/step - loss: 746055680.0000 - mean_squared_error: 746055680.0000\n",
      "Epoch 73/100\n",
      "375/375 [==============================] - 2s 6ms/step - loss: 741317120.0000 - mean_squared_error: 741317120.0000\n",
      "Epoch 74/100\n",
      "375/375 [==============================] - 2s 6ms/step - loss: 741273216.0000 - mean_squared_error: 741273216.0000\n",
      "Epoch 75/100\n",
      "375/375 [==============================] - 2s 5ms/step - loss: 741248768.0000 - mean_squared_error: 741248768.0000\n",
      "Epoch 76/100\n",
      "375/375 [==============================] - 2s 5ms/step - loss: 741357568.0000 - mean_squared_error: 741357568.0000\n",
      "Epoch 77/100\n",
      "375/375 [==============================] - 2s 5ms/step - loss: 741193536.0000 - mean_squared_error: 741193536.0000\n",
      "Epoch 78/100\n",
      "375/375 [==============================] - 2s 5ms/step - loss: 741130944.0000 - mean_squared_error: 741130944.0000\n",
      "Epoch 79/100\n",
      "375/375 [==============================] - 2s 5ms/step - loss: 741113984.0000 - mean_squared_error: 741113984.0000\n",
      "Epoch 80/100\n",
      "375/375 [==============================] - 2s 5ms/step - loss: 741181760.0000 - mean_squared_error: 741181760.0000\n",
      "Epoch 81/100\n",
      "375/375 [==============================] - 2s 5ms/step - loss: 740998016.0000 - mean_squared_error: 740998016.0000\n",
      "Epoch 82/100\n",
      "375/375 [==============================] - 2s 5ms/step - loss: 741118720.0000 - mean_squared_error: 741118720.0000\n",
      "Epoch 83/100\n",
      "375/375 [==============================] - 2s 5ms/step - loss: 741097088.0000 - mean_squared_error: 741097088.0000\n",
      "Epoch 84/100\n",
      "375/375 [==============================] - 2s 5ms/step - loss: 741168704.0000 - mean_squared_error: 741168704.0000\n",
      "Epoch 85/100\n",
      "375/375 [==============================] - 2s 5ms/step - loss: 742461440.0000 - mean_squared_error: 742461440.0000\n",
      "Epoch 86/100\n",
      "375/375 [==============================] - 2s 6ms/step - loss: 741249216.0000 - mean_squared_error: 741249216.0000\n",
      "Epoch 87/100\n",
      "375/375 [==============================] - 2s 5ms/step - loss: 741183936.0000 - mean_squared_error: 741183936.0000\n",
      "Epoch 88/100\n",
      "375/375 [==============================] - 2s 5ms/step - loss: 741594560.0000 - mean_squared_error: 741594560.0000\n",
      "Epoch 89/100\n",
      "375/375 [==============================] - 2s 5ms/step - loss: 741276224.0000 - mean_squared_error: 741276224.0000\n",
      "Epoch 90/100\n",
      "375/375 [==============================] - 2s 5ms/step - loss: 741267200.0000 - mean_squared_error: 741267200.0000\n",
      "Epoch 91/100\n",
      "375/375 [==============================] - 2s 5ms/step - loss: 741237568.0000 - mean_squared_error: 741237568.0000\n",
      "Epoch 92/100\n",
      "375/375 [==============================] - 2s 5ms/step - loss: 741261504.0000 - mean_squared_error: 741261504.0000\n",
      "Epoch 93/100\n",
      "375/375 [==============================] - 2s 7ms/step - loss: 741176512.0000 - mean_squared_error: 741176512.0000\n",
      "Epoch 94/100\n",
      "375/375 [==============================] - 3s 7ms/step - loss: 741080128.0000 - mean_squared_error: 741080128.0000\n",
      "Epoch 95/100\n",
      "375/375 [==============================] - 2s 6ms/step - loss: 740947200.0000 - mean_squared_error: 740947200.0000\n",
      "Epoch 96/100\n",
      "375/375 [==============================] - 2s 5ms/step - loss: 741174464.0000 - mean_squared_error: 741174464.0000\n",
      "Epoch 97/100\n",
      "375/375 [==============================] - 2s 5ms/step - loss: 741068480.0000 - mean_squared_error: 741068480.0000\n",
      "Epoch 98/100\n",
      "375/375 [==============================] - 2s 5ms/step - loss: 741942784.0000 - mean_squared_error: 741942784.0000\n",
      "Epoch 99/100\n",
      "375/375 [==============================] - 2s 6ms/step - loss: 741084480.0000 - mean_squared_error: 741084480.0000\n",
      "Epoch 100/100\n",
      "375/375 [==============================] - 2s 5ms/step - loss: 741066112.0000 - mean_squared_error: 741066112.0000\n"
     ]
    },
    {
     "data": {
      "text/plain": [
       "<keras.callbacks.History at 0x21159e86fb0>"
      ]
     },
     "execution_count": 161,
     "metadata": {},
     "output_type": "execute_result"
    }
   ],
   "source": [
    "model2.fit(X_train,y_train,epochs=100,batch_size=32)"
   ]
  },
  {
   "cell_type": "code",
   "execution_count": 162,
   "metadata": {},
   "outputs": [],
   "source": [
    "from joblib import dump, load"
   ]
  },
  {
   "cell_type": "code",
   "execution_count": 164,
   "metadata": {},
   "outputs": [
    {
     "data": {
      "text/plain": [
       "['bestmodel.joblib']"
      ]
     },
     "execution_count": 164,
     "metadata": {},
     "output_type": "execute_result"
    }
   ],
   "source": [
    "dump(forest, 'bestmodel.joblib') #here random forest regressor performed better than the other models and we save it as bestmodel.joblib"
   ]
  },
  {
   "cell_type": "code",
   "execution_count": 165,
   "metadata": {},
   "outputs": [],
   "source": [
    "df2=pd.read_csv('D:/pythonCode/projects/youtube-adview-prediction/test.csv')"
   ]
  },
  {
   "cell_type": "code",
   "execution_count": 166,
   "metadata": {},
   "outputs": [
    {
     "data": {
      "text/plain": [
       "vidid        object\n",
       "views        object\n",
       "likes        object\n",
       "dislikes     object\n",
       "comment      object\n",
       "published    object\n",
       "duration     object\n",
       "category     object\n",
       "dtype: object"
      ]
     },
     "execution_count": 166,
     "metadata": {},
     "output_type": "execute_result"
    }
   ],
   "source": [
    "df2.dtypes"
   ]
  },
  {
   "cell_type": "markdown",
   "metadata": {},
   "source": [
    "#cleaning data"
   ]
  },
  {
   "cell_type": "code",
   "execution_count": 177,
   "metadata": {},
   "outputs": [
    {
     "name": "stderr",
     "output_type": "stream",
     "text": [
      "C:\\Users\\Chara\\AppData\\Local\\Temp/ipykernel_15312/3408254167.py:15: SettingWithCopyWarning: \n",
      "A value is trying to be set on a copy of a slice from a DataFrame\n",
      "\n",
      "See the caveats in the documentation: https://pandas.pydata.org/pandas-docs/stable/user_guide/indexing.html#returning-a-view-versus-a-copy\n",
      "  df2['comment'][i]=0\n"
     ]
    }
   ],
   "source": [
    "for i in range(len(df2['views'])):\n",
    "    if df2['views'][i]=='F':\n",
    "        df2['views'][i]=0\n",
    "\n",
    "for i in range(len(df2['likes'])):\n",
    "    if df2['likes'][i]=='F':\n",
    "        df2['likes'][i]=0  \n",
    "\n",
    "for i in range(len(df2['dislikes'])):\n",
    "    if df2['dislikes'][i]=='F':\n",
    "        df2['dislikes'][i]=0\n",
    "\n",
    "for i in range(len(df2['comment'])):\n",
    "    if df2['comment'][i]=='F':\n",
    "        df2['comment'][i]=0 "
   ]
  },
  {
   "cell_type": "code",
   "execution_count": 178,
   "metadata": {},
   "outputs": [],
   "source": [
    "df2['views']=df2['views'].astype(np.int64)\n",
    "df2['likes']=df2['likes'].astype(np.int64)\n",
    "df2['dislikes']=df2['dislikes'].astype(np.int64)\n",
    "df2['comment']=df2['comment'].astype(np.int64)"
   ]
  },
  {
   "cell_type": "code",
   "execution_count": 179,
   "metadata": {},
   "outputs": [
    {
     "name": "stderr",
     "output_type": "stream",
     "text": [
      "C:\\Users\\Chara\\AppData\\Local\\Temp/ipykernel_15312/1104572212.py:2: SettingWithCopyWarning: \n",
      "A value is trying to be set on a copy of a slice from a DataFrame\n",
      "\n",
      "See the caveats in the documentation: https://pandas.pydata.org/pandas-docs/stable/user_guide/indexing.html#returning-a-view-versus-a-copy\n",
      "  df2['category'][i]=cate[df2['category'][i]]\n"
     ]
    }
   ],
   "source": [
    "for i in range(len(df2['category'])):\n",
    "    df2['category'][i]=cate[df2['category'][i]]"
   ]
  },
  {
   "cell_type": "code",
   "execution_count": 180,
   "metadata": {},
   "outputs": [],
   "source": [
    "df2['category']=df2['category'].astype(np.int64)"
   ]
  },
  {
   "cell_type": "code",
   "execution_count": 182,
   "metadata": {},
   "outputs": [],
   "source": [
    "df2['duration']=df2['duration'].apply(checki)\n",
    "df2['duration']=df2['duration'].apply(func_sec)"
   ]
  },
  {
   "cell_type": "code",
   "execution_count": 184,
   "metadata": {},
   "outputs": [],
   "source": [
    "df2.drop(['vidid'],inplace=True,axis=1)"
   ]
  },
  {
   "cell_type": "code",
   "execution_count": 185,
   "metadata": {},
   "outputs": [],
   "source": [
    "df2['published']=label_encoder.fit_transform(df2['published'])"
   ]
  },
  {
   "cell_type": "code",
   "execution_count": 186,
   "metadata": {},
   "outputs": [
    {
     "data": {
      "text/html": [
       "<div>\n",
       "<style scoped>\n",
       "    .dataframe tbody tr th:only-of-type {\n",
       "        vertical-align: middle;\n",
       "    }\n",
       "\n",
       "    .dataframe tbody tr th {\n",
       "        vertical-align: top;\n",
       "    }\n",
       "\n",
       "    .dataframe thead th {\n",
       "        text-align: right;\n",
       "    }\n",
       "</style>\n",
       "<table border=\"1\" class=\"dataframe\">\n",
       "  <thead>\n",
       "    <tr style=\"text-align: right;\">\n",
       "      <th></th>\n",
       "      <th>views</th>\n",
       "      <th>likes</th>\n",
       "      <th>dislikes</th>\n",
       "      <th>comment</th>\n",
       "      <th>published</th>\n",
       "      <th>duration</th>\n",
       "      <th>category</th>\n",
       "    </tr>\n",
       "  </thead>\n",
       "  <tbody>\n",
       "    <tr>\n",
       "      <th>0</th>\n",
       "      <td>440238</td>\n",
       "      <td>6153</td>\n",
       "      <td>218</td>\n",
       "      <td>1377</td>\n",
       "      <td>2055</td>\n",
       "      <td>449</td>\n",
       "      <td>1</td>\n",
       "    </tr>\n",
       "    <tr>\n",
       "      <th>1</th>\n",
       "      <td>1040132</td>\n",
       "      <td>8171</td>\n",
       "      <td>340</td>\n",
       "      <td>1047</td>\n",
       "      <td>1827</td>\n",
       "      <td>389</td>\n",
       "      <td>5</td>\n",
       "    </tr>\n",
       "    <tr>\n",
       "      <th>2</th>\n",
       "      <td>28534</td>\n",
       "      <td>31</td>\n",
       "      <td>11</td>\n",
       "      <td>1</td>\n",
       "      <td>1010</td>\n",
       "      <td>2274</td>\n",
       "      <td>3</td>\n",
       "    </tr>\n",
       "    <tr>\n",
       "      <th>3</th>\n",
       "      <td>1316715</td>\n",
       "      <td>2284</td>\n",
       "      <td>250</td>\n",
       "      <td>274</td>\n",
       "      <td>117</td>\n",
       "      <td>595</td>\n",
       "      <td>6</td>\n",
       "    </tr>\n",
       "    <tr>\n",
       "      <th>4</th>\n",
       "      <td>1893173</td>\n",
       "      <td>2519</td>\n",
       "      <td>225</td>\n",
       "      <td>116</td>\n",
       "      <td>1894</td>\n",
       "      <td>188</td>\n",
       "      <td>1</td>\n",
       "    </tr>\n",
       "  </tbody>\n",
       "</table>\n",
       "</div>"
      ],
      "text/plain": [
       "     views  likes  dislikes  comment  published  duration  category\n",
       "0   440238   6153       218     1377       2055       449         1\n",
       "1  1040132   8171       340     1047       1827       389         5\n",
       "2    28534     31        11        1       1010      2274         3\n",
       "3  1316715   2284       250      274        117       595         6\n",
       "4  1893173   2519       225      116       1894       188         1"
      ]
     },
     "execution_count": 186,
     "metadata": {},
     "output_type": "execute_result"
    }
   ],
   "source": [
    "df2.head()"
   ]
  },
  {
   "cell_type": "code",
   "execution_count": 187,
   "metadata": {},
   "outputs": [],
   "source": [
    "df2.to_csv('D:/pythonCode/projects/youtube-adview-prediction/test_new.csv',index=False)"
   ]
  },
  {
   "cell_type": "markdown",
   "metadata": {},
   "source": [
    "#now predicting adviews"
   ]
  },
  {
   "cell_type": "code",
   "execution_count": 189,
   "metadata": {},
   "outputs": [],
   "source": [
    "bestmodel=load('bestmodel.joblib')"
   ]
  },
  {
   "cell_type": "code",
   "execution_count": 190,
   "metadata": {},
   "outputs": [],
   "source": [
    "adview_pred=bestmodel.predict(df2)"
   ]
  },
  {
   "cell_type": "code",
   "execution_count": 192,
   "metadata": {},
   "outputs": [
    {
     "data": {
      "text/plain": [
       "array([  33.45,  627.86,  118.09,   38.69, 5470.3 ])"
      ]
     },
     "execution_count": 192,
     "metadata": {},
     "output_type": "execute_result"
    }
   ],
   "source": [
    "adview_pred[:5]"
   ]
  },
  {
   "cell_type": "code",
   "execution_count": 194,
   "metadata": {},
   "outputs": [],
   "source": [
    "ad=pd.DataFrame(adview_pred)"
   ]
  },
  {
   "cell_type": "code",
   "execution_count": 196,
   "metadata": {},
   "outputs": [],
   "source": [
    "ad.to_csv('D:/pythonCode/projects/youtube-adview-prediction/predictions.csv',index=False) #here we get the predictions for the test data"
   ]
  }
 ],
 "metadata": {
  "interpreter": {
   "hash": "4f441c8aa863e0ce7e9085ef25ed336469e6b60415da73a10fe9b958d485ff10"
  },
  "kernelspec": {
   "display_name": "Python 3.10.4 ('gpuEnv')",
   "language": "python",
   "name": "python3"
  },
  "language_info": {
   "codemirror_mode": {
    "name": "ipython",
    "version": 3
   },
   "file_extension": ".py",
   "mimetype": "text/x-python",
   "name": "python",
   "nbconvert_exporter": "python",
   "pygments_lexer": "ipython3",
   "version": "3.10.4"
  },
  "orig_nbformat": 4
 },
 "nbformat": 4,
 "nbformat_minor": 2
}

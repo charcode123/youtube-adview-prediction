{
 "cells": [
  {
   "cell_type": "code",
   "execution_count": 17,
   "metadata": {},
   "outputs": [],
   "source": [
    "import pandas as pd\n",
    "import seaborn as sns\n",
    "import matplotlib.pyplot as plt\n",
    "import numpy as np\n"
   ]
  },
  {
   "cell_type": "code",
   "execution_count": 3,
   "metadata": {},
   "outputs": [],
   "source": [
    "df1=pd.read_csv('D:/pythonCode/projects/youtube-adview-prediction/train.csv')"
   ]
  },
  {
   "cell_type": "markdown",
   "metadata": {},
   "source": [
    "###EDA"
   ]
  },
  {
   "cell_type": "code",
   "execution_count": 4,
   "metadata": {},
   "outputs": [
    {
     "data": {
      "text/html": [
       "<div>\n",
       "<style scoped>\n",
       "    .dataframe tbody tr th:only-of-type {\n",
       "        vertical-align: middle;\n",
       "    }\n",
       "\n",
       "    .dataframe tbody tr th {\n",
       "        vertical-align: top;\n",
       "    }\n",
       "\n",
       "    .dataframe thead th {\n",
       "        text-align: right;\n",
       "    }\n",
       "</style>\n",
       "<table border=\"1\" class=\"dataframe\">\n",
       "  <thead>\n",
       "    <tr style=\"text-align: right;\">\n",
       "      <th></th>\n",
       "      <th>vidid</th>\n",
       "      <th>adview</th>\n",
       "      <th>views</th>\n",
       "      <th>likes</th>\n",
       "      <th>dislikes</th>\n",
       "      <th>comment</th>\n",
       "      <th>published</th>\n",
       "      <th>duration</th>\n",
       "      <th>category</th>\n",
       "    </tr>\n",
       "  </thead>\n",
       "  <tbody>\n",
       "    <tr>\n",
       "      <th>0</th>\n",
       "      <td>VID_18655</td>\n",
       "      <td>40</td>\n",
       "      <td>1031602</td>\n",
       "      <td>8523</td>\n",
       "      <td>363</td>\n",
       "      <td>1095</td>\n",
       "      <td>14-09-2016</td>\n",
       "      <td>PT7M37S</td>\n",
       "      <td>F</td>\n",
       "    </tr>\n",
       "    <tr>\n",
       "      <th>1</th>\n",
       "      <td>VID_14135</td>\n",
       "      <td>2</td>\n",
       "      <td>1707</td>\n",
       "      <td>56</td>\n",
       "      <td>2</td>\n",
       "      <td>6</td>\n",
       "      <td>01-10-2016</td>\n",
       "      <td>PT9M30S</td>\n",
       "      <td>D</td>\n",
       "    </tr>\n",
       "    <tr>\n",
       "      <th>2</th>\n",
       "      <td>VID_2187</td>\n",
       "      <td>1</td>\n",
       "      <td>2023</td>\n",
       "      <td>25</td>\n",
       "      <td>0</td>\n",
       "      <td>2</td>\n",
       "      <td>02-07-2016</td>\n",
       "      <td>PT2M16S</td>\n",
       "      <td>C</td>\n",
       "    </tr>\n",
       "    <tr>\n",
       "      <th>3</th>\n",
       "      <td>VID_23096</td>\n",
       "      <td>6</td>\n",
       "      <td>620860</td>\n",
       "      <td>777</td>\n",
       "      <td>161</td>\n",
       "      <td>153</td>\n",
       "      <td>27-07-2016</td>\n",
       "      <td>PT4M22S</td>\n",
       "      <td>H</td>\n",
       "    </tr>\n",
       "    <tr>\n",
       "      <th>4</th>\n",
       "      <td>VID_10175</td>\n",
       "      <td>1</td>\n",
       "      <td>666</td>\n",
       "      <td>1</td>\n",
       "      <td>0</td>\n",
       "      <td>0</td>\n",
       "      <td>29-06-2016</td>\n",
       "      <td>PT31S</td>\n",
       "      <td>D</td>\n",
       "    </tr>\n",
       "  </tbody>\n",
       "</table>\n",
       "</div>"
      ],
      "text/plain": [
       "       vidid  adview    views likes dislikes comment   published duration  \\\n",
       "0  VID_18655      40  1031602  8523      363    1095  14-09-2016  PT7M37S   \n",
       "1  VID_14135       2     1707    56        2       6  01-10-2016  PT9M30S   \n",
       "2   VID_2187       1     2023    25        0       2  02-07-2016  PT2M16S   \n",
       "3  VID_23096       6   620860   777      161     153  27-07-2016  PT4M22S   \n",
       "4  VID_10175       1      666     1        0       0  29-06-2016    PT31S   \n",
       "\n",
       "  category  \n",
       "0        F  \n",
       "1        D  \n",
       "2        C  \n",
       "3        H  \n",
       "4        D  "
      ]
     },
     "execution_count": 4,
     "metadata": {},
     "output_type": "execute_result"
    }
   ],
   "source": [
    "df1.head()"
   ]
  },
  {
   "cell_type": "code",
   "execution_count": 36,
   "metadata": {},
   "outputs": [
    {
     "data": {
      "text/html": [
       "<div>\n",
       "<style scoped>\n",
       "    .dataframe tbody tr th:only-of-type {\n",
       "        vertical-align: middle;\n",
       "    }\n",
       "\n",
       "    .dataframe tbody tr th {\n",
       "        vertical-align: top;\n",
       "    }\n",
       "\n",
       "    .dataframe thead th {\n",
       "        text-align: right;\n",
       "    }\n",
       "</style>\n",
       "<table border=\"1\" class=\"dataframe\">\n",
       "  <thead>\n",
       "    <tr style=\"text-align: right;\">\n",
       "      <th></th>\n",
       "      <th>vidid</th>\n",
       "      <th>adview</th>\n",
       "      <th>views</th>\n",
       "      <th>likes</th>\n",
       "      <th>dislikes</th>\n",
       "      <th>comment</th>\n",
       "      <th>published</th>\n",
       "      <th>duration</th>\n",
       "      <th>category</th>\n",
       "    </tr>\n",
       "  </thead>\n",
       "  <tbody>\n",
       "    <tr>\n",
       "      <th>14989</th>\n",
       "      <td>VID_20638</td>\n",
       "      <td>22</td>\n",
       "      <td>1204587</td>\n",
       "      <td>10284</td>\n",
       "      <td>379</td>\n",
       "      <td>2016</td>\n",
       "      <td>10-04-2013</td>\n",
       "      <td>PT10H19S</td>\n",
       "      <td>G</td>\n",
       "    </tr>\n",
       "    <tr>\n",
       "      <th>14990</th>\n",
       "      <td>VID_11386</td>\n",
       "      <td>15</td>\n",
       "      <td>525829</td>\n",
       "      <td>350</td>\n",
       "      <td>222</td>\n",
       "      <td>0</td>\n",
       "      <td>08-07-2016</td>\n",
       "      <td>PT29M38S</td>\n",
       "      <td>D</td>\n",
       "    </tr>\n",
       "    <tr>\n",
       "      <th>14991</th>\n",
       "      <td>VID_2502</td>\n",
       "      <td>1</td>\n",
       "      <td>333336</td>\n",
       "      <td>152</td>\n",
       "      <td>84</td>\n",
       "      <td>0</td>\n",
       "      <td>11-12-2015</td>\n",
       "      <td>PT18M40S</td>\n",
       "      <td>C</td>\n",
       "    </tr>\n",
       "    <tr>\n",
       "      <th>14992</th>\n",
       "      <td>VID_11653</td>\n",
       "      <td>1</td>\n",
       "      <td>78021</td>\n",
       "      <td>422</td>\n",
       "      <td>19</td>\n",
       "      <td>14</td>\n",
       "      <td>12-08-2016</td>\n",
       "      <td>PT2M57S</td>\n",
       "      <td>D</td>\n",
       "    </tr>\n",
       "    <tr>\n",
       "      <th>14993</th>\n",
       "      <td>VID_13909</td>\n",
       "      <td>11</td>\n",
       "      <td>96816</td>\n",
       "      <td>122</td>\n",
       "      <td>9</td>\n",
       "      <td>11</td>\n",
       "      <td>30-01-2014</td>\n",
       "      <td>PT2M6S</td>\n",
       "      <td>D</td>\n",
       "    </tr>\n",
       "    <tr>\n",
       "      <th>14994</th>\n",
       "      <td>VID_31</td>\n",
       "      <td>2</td>\n",
       "      <td>525949</td>\n",
       "      <td>1137</td>\n",
       "      <td>83</td>\n",
       "      <td>86</td>\n",
       "      <td>18-05-2015</td>\n",
       "      <td>PT6M10S</td>\n",
       "      <td>A</td>\n",
       "    </tr>\n",
       "    <tr>\n",
       "      <th>14995</th>\n",
       "      <td>VID_5861</td>\n",
       "      <td>1</td>\n",
       "      <td>665673</td>\n",
       "      <td>3849</td>\n",
       "      <td>156</td>\n",
       "      <td>569</td>\n",
       "      <td>20-10-2015</td>\n",
       "      <td>PT3M56S</td>\n",
       "      <td>D</td>\n",
       "    </tr>\n",
       "    <tr>\n",
       "      <th>14996</th>\n",
       "      <td>VID_805</td>\n",
       "      <td>4</td>\n",
       "      <td>3479</td>\n",
       "      <td>16</td>\n",
       "      <td>1</td>\n",
       "      <td>1</td>\n",
       "      <td>23-08-2013</td>\n",
       "      <td>PT3M13S</td>\n",
       "      <td>B</td>\n",
       "    </tr>\n",
       "    <tr>\n",
       "      <th>14997</th>\n",
       "      <td>VID_19843</td>\n",
       "      <td>1</td>\n",
       "      <td>963</td>\n",
       "      <td>0</td>\n",
       "      <td>0</td>\n",
       "      <td>0</td>\n",
       "      <td>02-10-2010</td>\n",
       "      <td>PT26S</td>\n",
       "      <td>G</td>\n",
       "    </tr>\n",
       "    <tr>\n",
       "      <th>14998</th>\n",
       "      <td>VID_8534</td>\n",
       "      <td>1</td>\n",
       "      <td>15212</td>\n",
       "      <td>22</td>\n",
       "      <td>5</td>\n",
       "      <td>4</td>\n",
       "      <td>19-02-2016</td>\n",
       "      <td>PT1M1S</td>\n",
       "      <td>D</td>\n",
       "    </tr>\n",
       "  </tbody>\n",
       "</table>\n",
       "</div>"
      ],
      "text/plain": [
       "           vidid  adview    views  likes  dislikes  comment   published  \\\n",
       "14989  VID_20638      22  1204587  10284       379     2016  10-04-2013   \n",
       "14990  VID_11386      15   525829    350       222        0  08-07-2016   \n",
       "14991   VID_2502       1   333336    152        84        0  11-12-2015   \n",
       "14992  VID_11653       1    78021    422        19       14  12-08-2016   \n",
       "14993  VID_13909      11    96816    122         9       11  30-01-2014   \n",
       "14994     VID_31       2   525949   1137        83       86  18-05-2015   \n",
       "14995   VID_5861       1   665673   3849       156      569  20-10-2015   \n",
       "14996    VID_805       4     3479     16         1        1  23-08-2013   \n",
       "14997  VID_19843       1      963      0         0        0  02-10-2010   \n",
       "14998   VID_8534       1    15212     22         5        4  19-02-2016   \n",
       "\n",
       "       duration category  \n",
       "14989  PT10H19S        G  \n",
       "14990  PT29M38S        D  \n",
       "14991  PT18M40S        C  \n",
       "14992   PT2M57S        D  \n",
       "14993    PT2M6S        D  \n",
       "14994   PT6M10S        A  \n",
       "14995   PT3M56S        D  \n",
       "14996   PT3M13S        B  \n",
       "14997     PT26S        G  \n",
       "14998    PT1M1S        D  "
      ]
     },
     "execution_count": 36,
     "metadata": {},
     "output_type": "execute_result"
    }
   ],
   "source": [
    "df1.tail(10)"
   ]
  },
  {
   "cell_type": "code",
   "execution_count": 6,
   "metadata": {},
   "outputs": [
    {
     "data": {
      "text/plain": [
       "vidid        object\n",
       "adview        int64\n",
       "views        object\n",
       "likes        object\n",
       "dislikes     object\n",
       "comment      object\n",
       "published    object\n",
       "duration     object\n",
       "category     object\n",
       "dtype: object"
      ]
     },
     "execution_count": 6,
     "metadata": {},
     "output_type": "execute_result"
    }
   ],
   "source": [
    "df1.dtypes"
   ]
  },
  {
   "cell_type": "code",
   "execution_count": 7,
   "metadata": {},
   "outputs": [
    {
     "data": {
      "text/plain": [
       "object    8\n",
       "int64     1\n",
       "dtype: int64"
      ]
     },
     "execution_count": 7,
     "metadata": {},
     "output_type": "execute_result"
    }
   ],
   "source": [
    "df1.dtypes.value_counts()"
   ]
  },
  {
   "cell_type": "code",
   "execution_count": 8,
   "metadata": {},
   "outputs": [
    {
     "data": {
      "text/plain": [
       "vidid        0\n",
       "adview       0\n",
       "views        0\n",
       "likes        0\n",
       "dislikes     0\n",
       "comment      0\n",
       "published    0\n",
       "duration     0\n",
       "category     0\n",
       "dtype: int64"
      ]
     },
     "execution_count": 8,
     "metadata": {},
     "output_type": "execute_result"
    }
   ],
   "source": [
    "df1.isnull().sum()"
   ]
  },
  {
   "cell_type": "code",
   "execution_count": null,
   "metadata": {},
   "outputs": [],
   "source": [
    "for i in range(len(df1['views'])):\n",
    "    if df1['views'][i]=='F':\n",
    "        df1['views'][i]=0"
   ]
  },
  {
   "cell_type": "code",
   "execution_count": 18,
   "metadata": {},
   "outputs": [],
   "source": [
    "df1['views']=df1['views'].astype(np.int64)\n"
   ]
  },
  {
   "cell_type": "code",
   "execution_count": null,
   "metadata": {},
   "outputs": [],
   "source": [
    "for i in range(len(df1['likes'])):\n",
    "    if df1['likes'][i]=='F':\n",
    "        df1['likes'][i]=0 \n",
    "        "
   ]
  },
  {
   "cell_type": "code",
   "execution_count": 24,
   "metadata": {},
   "outputs": [],
   "source": [
    "df1['likes']=df1['likes'].astype(np.int64)"
   ]
  },
  {
   "cell_type": "code",
   "execution_count": null,
   "metadata": {},
   "outputs": [],
   "source": [
    "for i in range(len(df1['dislikes'])):\n",
    "    if df1['dislikes'][i]=='F':\n",
    "        df1['dislikes'][i]=0 "
   ]
  },
  {
   "cell_type": "code",
   "execution_count": 33,
   "metadata": {},
   "outputs": [],
   "source": [
    "df1['dislikes']=df1['dislikes'].astype(np.int64)"
   ]
  },
  {
   "cell_type": "code",
   "execution_count": null,
   "metadata": {},
   "outputs": [],
   "source": [
    "for i in range(len(df1['comment'])):\n",
    "    if df1['comment'][i]=='F':\n",
    "        df1['comment'][i]=0 "
   ]
  },
  {
   "cell_type": "code",
   "execution_count": 30,
   "metadata": {},
   "outputs": [],
   "source": [
    "df1['comment']=df1['comment'].astype(np.int64)"
   ]
  },
  {
   "cell_type": "code",
   "execution_count": 34,
   "metadata": {},
   "outputs": [
    {
     "data": {
      "text/plain": [
       "vidid        object\n",
       "adview        int64\n",
       "views         int64\n",
       "likes         int64\n",
       "dislikes      int64\n",
       "comment       int64\n",
       "published    object\n",
       "duration     object\n",
       "category     object\n",
       "dtype: object"
      ]
     },
     "execution_count": 34,
     "metadata": {},
     "output_type": "execute_result"
    }
   ],
   "source": [
    "df1.dtypes\n"
   ]
  },
  {
   "cell_type": "code",
   "execution_count": 35,
   "metadata": {},
   "outputs": [
    {
     "data": {
      "text/html": [
       "<div>\n",
       "<style scoped>\n",
       "    .dataframe tbody tr th:only-of-type {\n",
       "        vertical-align: middle;\n",
       "    }\n",
       "\n",
       "    .dataframe tbody tr th {\n",
       "        vertical-align: top;\n",
       "    }\n",
       "\n",
       "    .dataframe thead th {\n",
       "        text-align: right;\n",
       "    }\n",
       "</style>\n",
       "<table border=\"1\" class=\"dataframe\">\n",
       "  <thead>\n",
       "    <tr style=\"text-align: right;\">\n",
       "      <th></th>\n",
       "      <th>adview</th>\n",
       "      <th>views</th>\n",
       "      <th>likes</th>\n",
       "      <th>dislikes</th>\n",
       "      <th>comment</th>\n",
       "    </tr>\n",
       "  </thead>\n",
       "  <tbody>\n",
       "    <tr>\n",
       "      <th>count</th>\n",
       "      <td>1.499900e+04</td>\n",
       "      <td>1.499900e+04</td>\n",
       "      <td>14999.000000</td>\n",
       "      <td>14999.000000</td>\n",
       "      <td>14999.000000</td>\n",
       "    </tr>\n",
       "    <tr>\n",
       "      <th>mean</th>\n",
       "      <td>2.107791e+03</td>\n",
       "      <td>7.134752e+05</td>\n",
       "      <td>2739.423428</td>\n",
       "      <td>253.969065</td>\n",
       "      <td>400.174145</td>\n",
       "    </tr>\n",
       "    <tr>\n",
       "      <th>std</th>\n",
       "      <td>5.237711e+04</td>\n",
       "      <td>2.724531e+06</td>\n",
       "      <td>8851.481213</td>\n",
       "      <td>1023.209567</td>\n",
       "      <td>1494.345713</td>\n",
       "    </tr>\n",
       "    <tr>\n",
       "      <th>min</th>\n",
       "      <td>1.000000e+00</td>\n",
       "      <td>0.000000e+00</td>\n",
       "      <td>0.000000</td>\n",
       "      <td>0.000000</td>\n",
       "      <td>0.000000</td>\n",
       "    </tr>\n",
       "    <tr>\n",
       "      <th>25%</th>\n",
       "      <td>1.000000e+00</td>\n",
       "      <td>3.120100e+04</td>\n",
       "      <td>83.000000</td>\n",
       "      <td>7.000000</td>\n",
       "      <td>7.000000</td>\n",
       "    </tr>\n",
       "    <tr>\n",
       "      <th>50%</th>\n",
       "      <td>2.000000e+00</td>\n",
       "      <td>1.583170e+05</td>\n",
       "      <td>434.000000</td>\n",
       "      <td>37.000000</td>\n",
       "      <td>43.000000</td>\n",
       "    </tr>\n",
       "    <tr>\n",
       "      <th>75%</th>\n",
       "      <td>6.000000e+00</td>\n",
       "      <td>5.846100e+05</td>\n",
       "      <td>1815.500000</td>\n",
       "      <td>166.000000</td>\n",
       "      <td>215.000000</td>\n",
       "    </tr>\n",
       "    <tr>\n",
       "      <th>max</th>\n",
       "      <td>5.429665e+06</td>\n",
       "      <td>1.380479e+08</td>\n",
       "      <td>283824.000000</td>\n",
       "      <td>49449.000000</td>\n",
       "      <td>75045.000000</td>\n",
       "    </tr>\n",
       "  </tbody>\n",
       "</table>\n",
       "</div>"
      ],
      "text/plain": [
       "             adview         views          likes      dislikes       comment\n",
       "count  1.499900e+04  1.499900e+04   14999.000000  14999.000000  14999.000000\n",
       "mean   2.107791e+03  7.134752e+05    2739.423428    253.969065    400.174145\n",
       "std    5.237711e+04  2.724531e+06    8851.481213   1023.209567   1494.345713\n",
       "min    1.000000e+00  0.000000e+00       0.000000      0.000000      0.000000\n",
       "25%    1.000000e+00  3.120100e+04      83.000000      7.000000      7.000000\n",
       "50%    2.000000e+00  1.583170e+05     434.000000     37.000000     43.000000\n",
       "75%    6.000000e+00  5.846100e+05    1815.500000    166.000000    215.000000\n",
       "max    5.429665e+06  1.380479e+08  283824.000000  49449.000000  75045.000000"
      ]
     },
     "execution_count": 35,
     "metadata": {},
     "output_type": "execute_result"
    }
   ],
   "source": [
    "df1.describe()"
   ]
  },
  {
   "cell_type": "code",
   "execution_count": null,
   "metadata": {},
   "outputs": [],
   "source": [
    "sns.pairplot(df1)"
   ]
  }
 ],
 "metadata": {
  "interpreter": {
   "hash": "4f441c8aa863e0ce7e9085ef25ed336469e6b60415da73a10fe9b958d485ff10"
  },
  "kernelspec": {
   "display_name": "Python 3.10.4 ('gpuEnv')",
   "language": "python",
   "name": "python3"
  },
  "language_info": {
   "codemirror_mode": {
    "name": "ipython",
    "version": 3
   },
   "file_extension": ".py",
   "mimetype": "text/x-python",
   "name": "python",
   "nbconvert_exporter": "python",
   "pygments_lexer": "ipython3",
   "version": "3.10.4"
  },
  "orig_nbformat": 4
 },
 "nbformat": 4,
 "nbformat_minor": 2
}
